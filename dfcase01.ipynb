{
  "nbformat": 4,
  "nbformat_minor": 0,
  "metadata": {
    "colab": {
      "provenance": [],
      "authorship_tag": "ABX9TyNqUgULOKBQq0JcjeoKZu/R",
      "include_colab_link": true
    },
    "kernelspec": {
      "name": "python3",
      "display_name": "Python 3"
    },
    "language_info": {
      "name": "python"
    },
    "widgets": {
      "application/vnd.jupyter.widget-state+json": {
        "2fb563769dbc469ca98e5507777f6b8a": {
          "model_module": "@jupyter-widgets/controls",
          "model_name": "HBoxModel",
          "model_module_version": "1.5.0",
          "state": {
            "_dom_classes": [],
            "_model_module": "@jupyter-widgets/controls",
            "_model_module_version": "1.5.0",
            "_model_name": "HBoxModel",
            "_view_count": null,
            "_view_module": "@jupyter-widgets/controls",
            "_view_module_version": "1.5.0",
            "_view_name": "HBoxView",
            "box_style": "",
            "children": [
              "IPY_MODEL_41c03f74dd6d453a9d9d20943c899f55",
              "IPY_MODEL_f8a1a8722f6646858e9fc913f9ebba4f",
              "IPY_MODEL_f0acd9d2d09c4b088208fe1ae49cb5c2"
            ],
            "layout": "IPY_MODEL_e77cccd48ed94a85be60dd8455edbcc3"
          }
        },
        "41c03f74dd6d453a9d9d20943c899f55": {
          "model_module": "@jupyter-widgets/controls",
          "model_name": "HTMLModel",
          "model_module_version": "1.5.0",
          "state": {
            "_dom_classes": [],
            "_model_module": "@jupyter-widgets/controls",
            "_model_module_version": "1.5.0",
            "_model_name": "HTMLModel",
            "_view_count": null,
            "_view_module": "@jupyter-widgets/controls",
            "_view_module_version": "1.5.0",
            "_view_name": "HTMLView",
            "description": "",
            "description_tooltip": null,
            "layout": "IPY_MODEL_4728d8e960804306abb0a8d1e5d8a5ac",
            "placeholder": "​",
            "style": "IPY_MODEL_8ce628e93b6746a38b508ddda8a466ee",
            "value": "Downloading builder script: 100%"
          }
        },
        "f8a1a8722f6646858e9fc913f9ebba4f": {
          "model_module": "@jupyter-widgets/controls",
          "model_name": "FloatProgressModel",
          "model_module_version": "1.5.0",
          "state": {
            "_dom_classes": [],
            "_model_module": "@jupyter-widgets/controls",
            "_model_module_version": "1.5.0",
            "_model_name": "FloatProgressModel",
            "_view_count": null,
            "_view_module": "@jupyter-widgets/controls",
            "_view_module_version": "1.5.0",
            "_view_name": "ProgressView",
            "bar_style": "success",
            "description": "",
            "description_tooltip": null,
            "layout": "IPY_MODEL_4c87529910d94d44873ea23887f65636",
            "max": 2999,
            "min": 0,
            "orientation": "horizontal",
            "style": "IPY_MODEL_abaa8c89f9cc41fcbe53e3d5b5f304e7",
            "value": 2999
          }
        },
        "f0acd9d2d09c4b088208fe1ae49cb5c2": {
          "model_module": "@jupyter-widgets/controls",
          "model_name": "HTMLModel",
          "model_module_version": "1.5.0",
          "state": {
            "_dom_classes": [],
            "_model_module": "@jupyter-widgets/controls",
            "_model_module_version": "1.5.0",
            "_model_name": "HTMLModel",
            "_view_count": null,
            "_view_module": "@jupyter-widgets/controls",
            "_view_module_version": "1.5.0",
            "_view_name": "HTMLView",
            "description": "",
            "description_tooltip": null,
            "layout": "IPY_MODEL_4899188e184e4367b98efc3d6d4dbf33",
            "placeholder": "​",
            "style": "IPY_MODEL_540a65ae24b54b5c8f3082367e627e32",
            "value": " 3.00k/3.00k [00:00&lt;00:00, 4.64kB/s]"
          }
        },
        "e77cccd48ed94a85be60dd8455edbcc3": {
          "model_module": "@jupyter-widgets/base",
          "model_name": "LayoutModel",
          "model_module_version": "1.2.0",
          "state": {
            "_model_module": "@jupyter-widgets/base",
            "_model_module_version": "1.2.0",
            "_model_name": "LayoutModel",
            "_view_count": null,
            "_view_module": "@jupyter-widgets/base",
            "_view_module_version": "1.2.0",
            "_view_name": "LayoutView",
            "align_content": null,
            "align_items": null,
            "align_self": null,
            "border": null,
            "bottom": null,
            "display": null,
            "flex": null,
            "flex_flow": null,
            "grid_area": null,
            "grid_auto_columns": null,
            "grid_auto_flow": null,
            "grid_auto_rows": null,
            "grid_column": null,
            "grid_gap": null,
            "grid_row": null,
            "grid_template_areas": null,
            "grid_template_columns": null,
            "grid_template_rows": null,
            "height": null,
            "justify_content": null,
            "justify_items": null,
            "left": null,
            "margin": null,
            "max_height": null,
            "max_width": null,
            "min_height": null,
            "min_width": null,
            "object_fit": null,
            "object_position": null,
            "order": null,
            "overflow": null,
            "overflow_x": null,
            "overflow_y": null,
            "padding": null,
            "right": null,
            "top": null,
            "visibility": null,
            "width": null
          }
        },
        "4728d8e960804306abb0a8d1e5d8a5ac": {
          "model_module": "@jupyter-widgets/base",
          "model_name": "LayoutModel",
          "model_module_version": "1.2.0",
          "state": {
            "_model_module": "@jupyter-widgets/base",
            "_model_module_version": "1.2.0",
            "_model_name": "LayoutModel",
            "_view_count": null,
            "_view_module": "@jupyter-widgets/base",
            "_view_module_version": "1.2.0",
            "_view_name": "LayoutView",
            "align_content": null,
            "align_items": null,
            "align_self": null,
            "border": null,
            "bottom": null,
            "display": null,
            "flex": null,
            "flex_flow": null,
            "grid_area": null,
            "grid_auto_columns": null,
            "grid_auto_flow": null,
            "grid_auto_rows": null,
            "grid_column": null,
            "grid_gap": null,
            "grid_row": null,
            "grid_template_areas": null,
            "grid_template_columns": null,
            "grid_template_rows": null,
            "height": null,
            "justify_content": null,
            "justify_items": null,
            "left": null,
            "margin": null,
            "max_height": null,
            "max_width": null,
            "min_height": null,
            "min_width": null,
            "object_fit": null,
            "object_position": null,
            "order": null,
            "overflow": null,
            "overflow_x": null,
            "overflow_y": null,
            "padding": null,
            "right": null,
            "top": null,
            "visibility": null,
            "width": null
          }
        },
        "8ce628e93b6746a38b508ddda8a466ee": {
          "model_module": "@jupyter-widgets/controls",
          "model_name": "DescriptionStyleModel",
          "model_module_version": "1.5.0",
          "state": {
            "_model_module": "@jupyter-widgets/controls",
            "_model_module_version": "1.5.0",
            "_model_name": "DescriptionStyleModel",
            "_view_count": null,
            "_view_module": "@jupyter-widgets/base",
            "_view_module_version": "1.2.0",
            "_view_name": "StyleView",
            "description_width": ""
          }
        },
        "4c87529910d94d44873ea23887f65636": {
          "model_module": "@jupyter-widgets/base",
          "model_name": "LayoutModel",
          "model_module_version": "1.2.0",
          "state": {
            "_model_module": "@jupyter-widgets/base",
            "_model_module_version": "1.2.0",
            "_model_name": "LayoutModel",
            "_view_count": null,
            "_view_module": "@jupyter-widgets/base",
            "_view_module_version": "1.2.0",
            "_view_name": "LayoutView",
            "align_content": null,
            "align_items": null,
            "align_self": null,
            "border": null,
            "bottom": null,
            "display": null,
            "flex": null,
            "flex_flow": null,
            "grid_area": null,
            "grid_auto_columns": null,
            "grid_auto_flow": null,
            "grid_auto_rows": null,
            "grid_column": null,
            "grid_gap": null,
            "grid_row": null,
            "grid_template_areas": null,
            "grid_template_columns": null,
            "grid_template_rows": null,
            "height": null,
            "justify_content": null,
            "justify_items": null,
            "left": null,
            "margin": null,
            "max_height": null,
            "max_width": null,
            "min_height": null,
            "min_width": null,
            "object_fit": null,
            "object_position": null,
            "order": null,
            "overflow": null,
            "overflow_x": null,
            "overflow_y": null,
            "padding": null,
            "right": null,
            "top": null,
            "visibility": null,
            "width": null
          }
        },
        "abaa8c89f9cc41fcbe53e3d5b5f304e7": {
          "model_module": "@jupyter-widgets/controls",
          "model_name": "ProgressStyleModel",
          "model_module_version": "1.5.0",
          "state": {
            "_model_module": "@jupyter-widgets/controls",
            "_model_module_version": "1.5.0",
            "_model_name": "ProgressStyleModel",
            "_view_count": null,
            "_view_module": "@jupyter-widgets/base",
            "_view_module_version": "1.2.0",
            "_view_name": "StyleView",
            "bar_color": null,
            "description_width": ""
          }
        },
        "4899188e184e4367b98efc3d6d4dbf33": {
          "model_module": "@jupyter-widgets/base",
          "model_name": "LayoutModel",
          "model_module_version": "1.2.0",
          "state": {
            "_model_module": "@jupyter-widgets/base",
            "_model_module_version": "1.2.0",
            "_model_name": "LayoutModel",
            "_view_count": null,
            "_view_module": "@jupyter-widgets/base",
            "_view_module_version": "1.2.0",
            "_view_name": "LayoutView",
            "align_content": null,
            "align_items": null,
            "align_self": null,
            "border": null,
            "bottom": null,
            "display": null,
            "flex": null,
            "flex_flow": null,
            "grid_area": null,
            "grid_auto_columns": null,
            "grid_auto_flow": null,
            "grid_auto_rows": null,
            "grid_column": null,
            "grid_gap": null,
            "grid_row": null,
            "grid_template_areas": null,
            "grid_template_columns": null,
            "grid_template_rows": null,
            "height": null,
            "justify_content": null,
            "justify_items": null,
            "left": null,
            "margin": null,
            "max_height": null,
            "max_width": null,
            "min_height": null,
            "min_width": null,
            "object_fit": null,
            "object_position": null,
            "order": null,
            "overflow": null,
            "overflow_x": null,
            "overflow_y": null,
            "padding": null,
            "right": null,
            "top": null,
            "visibility": null,
            "width": null
          }
        },
        "540a65ae24b54b5c8f3082367e627e32": {
          "model_module": "@jupyter-widgets/controls",
          "model_name": "DescriptionStyleModel",
          "model_module_version": "1.5.0",
          "state": {
            "_model_module": "@jupyter-widgets/controls",
            "_model_module_version": "1.5.0",
            "_model_name": "DescriptionStyleModel",
            "_view_count": null,
            "_view_module": "@jupyter-widgets/base",
            "_view_module_version": "1.2.0",
            "_view_name": "StyleView",
            "description_width": ""
          }
        },
        "c1d05d22ed8f47b5b3de435f964e98b8": {
          "model_module": "@jupyter-widgets/controls",
          "model_name": "HBoxModel",
          "model_module_version": "1.5.0",
          "state": {
            "_dom_classes": [],
            "_model_module": "@jupyter-widgets/controls",
            "_model_module_version": "1.5.0",
            "_model_name": "HBoxModel",
            "_view_count": null,
            "_view_module": "@jupyter-widgets/controls",
            "_view_module_version": "1.5.0",
            "_view_name": "HBoxView",
            "box_style": "",
            "children": [
              "IPY_MODEL_35ce897711af4c6388a1d0422d21f6c0",
              "IPY_MODEL_24cd5d6c0cff49fda0d9eb2f464a16da",
              "IPY_MODEL_898ab54500934991b9e35b6d5c82fc8b"
            ],
            "layout": "IPY_MODEL_192cde6cfb83458f99d5bf7dd423a80f"
          }
        },
        "35ce897711af4c6388a1d0422d21f6c0": {
          "model_module": "@jupyter-widgets/controls",
          "model_name": "HTMLModel",
          "model_module_version": "1.5.0",
          "state": {
            "_dom_classes": [],
            "_model_module": "@jupyter-widgets/controls",
            "_model_module_version": "1.5.0",
            "_model_name": "HTMLModel",
            "_view_count": null,
            "_view_module": "@jupyter-widgets/controls",
            "_view_module_version": "1.5.0",
            "_view_name": "HTMLView",
            "description": "",
            "description_tooltip": null,
            "layout": "IPY_MODEL_3a08bfadd5844e27b38afd90831b5a5f",
            "placeholder": "​",
            "style": "IPY_MODEL_3e3634a4256943ce9fcdba9331ea28c1",
            "value": "Downloading data files: 100%"
          }
        },
        "24cd5d6c0cff49fda0d9eb2f464a16da": {
          "model_module": "@jupyter-widgets/controls",
          "model_name": "FloatProgressModel",
          "model_module_version": "1.5.0",
          "state": {
            "_dom_classes": [],
            "_model_module": "@jupyter-widgets/controls",
            "_model_module_version": "1.5.0",
            "_model_name": "FloatProgressModel",
            "_view_count": null,
            "_view_module": "@jupyter-widgets/controls",
            "_view_module_version": "1.5.0",
            "_view_name": "ProgressView",
            "bar_style": "success",
            "description": "",
            "description_tooltip": null,
            "layout": "IPY_MODEL_dd0d26fcaaab4f91b14e2ef10818714c",
            "max": 1,
            "min": 0,
            "orientation": "horizontal",
            "style": "IPY_MODEL_d28dd3db5ee242399d3a3dd628dfdced",
            "value": 1
          }
        },
        "898ab54500934991b9e35b6d5c82fc8b": {
          "model_module": "@jupyter-widgets/controls",
          "model_name": "HTMLModel",
          "model_module_version": "1.5.0",
          "state": {
            "_dom_classes": [],
            "_model_module": "@jupyter-widgets/controls",
            "_model_module_version": "1.5.0",
            "_model_name": "HTMLModel",
            "_view_count": null,
            "_view_module": "@jupyter-widgets/controls",
            "_view_module_version": "1.5.0",
            "_view_name": "HTMLView",
            "description": "",
            "description_tooltip": null,
            "layout": "IPY_MODEL_dbc544ad29db452cb34c05136c2343de",
            "placeholder": "​",
            "style": "IPY_MODEL_1539e63c37cf4f49a04b157bc2dd22b6",
            "value": " 1/1 [00:40&lt;00:00, 40.67s/it]"
          }
        },
        "192cde6cfb83458f99d5bf7dd423a80f": {
          "model_module": "@jupyter-widgets/base",
          "model_name": "LayoutModel",
          "model_module_version": "1.2.0",
          "state": {
            "_model_module": "@jupyter-widgets/base",
            "_model_module_version": "1.2.0",
            "_model_name": "LayoutModel",
            "_view_count": null,
            "_view_module": "@jupyter-widgets/base",
            "_view_module_version": "1.2.0",
            "_view_name": "LayoutView",
            "align_content": null,
            "align_items": null,
            "align_self": null,
            "border": null,
            "bottom": null,
            "display": null,
            "flex": null,
            "flex_flow": null,
            "grid_area": null,
            "grid_auto_columns": null,
            "grid_auto_flow": null,
            "grid_auto_rows": null,
            "grid_column": null,
            "grid_gap": null,
            "grid_row": null,
            "grid_template_areas": null,
            "grid_template_columns": null,
            "grid_template_rows": null,
            "height": null,
            "justify_content": null,
            "justify_items": null,
            "left": null,
            "margin": null,
            "max_height": null,
            "max_width": null,
            "min_height": null,
            "min_width": null,
            "object_fit": null,
            "object_position": null,
            "order": null,
            "overflow": null,
            "overflow_x": null,
            "overflow_y": null,
            "padding": null,
            "right": null,
            "top": null,
            "visibility": null,
            "width": null
          }
        },
        "3a08bfadd5844e27b38afd90831b5a5f": {
          "model_module": "@jupyter-widgets/base",
          "model_name": "LayoutModel",
          "model_module_version": "1.2.0",
          "state": {
            "_model_module": "@jupyter-widgets/base",
            "_model_module_version": "1.2.0",
            "_model_name": "LayoutModel",
            "_view_count": null,
            "_view_module": "@jupyter-widgets/base",
            "_view_module_version": "1.2.0",
            "_view_name": "LayoutView",
            "align_content": null,
            "align_items": null,
            "align_self": null,
            "border": null,
            "bottom": null,
            "display": null,
            "flex": null,
            "flex_flow": null,
            "grid_area": null,
            "grid_auto_columns": null,
            "grid_auto_flow": null,
            "grid_auto_rows": null,
            "grid_column": null,
            "grid_gap": null,
            "grid_row": null,
            "grid_template_areas": null,
            "grid_template_columns": null,
            "grid_template_rows": null,
            "height": null,
            "justify_content": null,
            "justify_items": null,
            "left": null,
            "margin": null,
            "max_height": null,
            "max_width": null,
            "min_height": null,
            "min_width": null,
            "object_fit": null,
            "object_position": null,
            "order": null,
            "overflow": null,
            "overflow_x": null,
            "overflow_y": null,
            "padding": null,
            "right": null,
            "top": null,
            "visibility": null,
            "width": null
          }
        },
        "3e3634a4256943ce9fcdba9331ea28c1": {
          "model_module": "@jupyter-widgets/controls",
          "model_name": "DescriptionStyleModel",
          "model_module_version": "1.5.0",
          "state": {
            "_model_module": "@jupyter-widgets/controls",
            "_model_module_version": "1.5.0",
            "_model_name": "DescriptionStyleModel",
            "_view_count": null,
            "_view_module": "@jupyter-widgets/base",
            "_view_module_version": "1.2.0",
            "_view_name": "StyleView",
            "description_width": ""
          }
        },
        "dd0d26fcaaab4f91b14e2ef10818714c": {
          "model_module": "@jupyter-widgets/base",
          "model_name": "LayoutModel",
          "model_module_version": "1.2.0",
          "state": {
            "_model_module": "@jupyter-widgets/base",
            "_model_module_version": "1.2.0",
            "_model_name": "LayoutModel",
            "_view_count": null,
            "_view_module": "@jupyter-widgets/base",
            "_view_module_version": "1.2.0",
            "_view_name": "LayoutView",
            "align_content": null,
            "align_items": null,
            "align_self": null,
            "border": null,
            "bottom": null,
            "display": null,
            "flex": null,
            "flex_flow": null,
            "grid_area": null,
            "grid_auto_columns": null,
            "grid_auto_flow": null,
            "grid_auto_rows": null,
            "grid_column": null,
            "grid_gap": null,
            "grid_row": null,
            "grid_template_areas": null,
            "grid_template_columns": null,
            "grid_template_rows": null,
            "height": null,
            "justify_content": null,
            "justify_items": null,
            "left": null,
            "margin": null,
            "max_height": null,
            "max_width": null,
            "min_height": null,
            "min_width": null,
            "object_fit": null,
            "object_position": null,
            "order": null,
            "overflow": null,
            "overflow_x": null,
            "overflow_y": null,
            "padding": null,
            "right": null,
            "top": null,
            "visibility": null,
            "width": null
          }
        },
        "d28dd3db5ee242399d3a3dd628dfdced": {
          "model_module": "@jupyter-widgets/controls",
          "model_name": "ProgressStyleModel",
          "model_module_version": "1.5.0",
          "state": {
            "_model_module": "@jupyter-widgets/controls",
            "_model_module_version": "1.5.0",
            "_model_name": "ProgressStyleModel",
            "_view_count": null,
            "_view_module": "@jupyter-widgets/base",
            "_view_module_version": "1.2.0",
            "_view_name": "StyleView",
            "bar_color": null,
            "description_width": ""
          }
        },
        "dbc544ad29db452cb34c05136c2343de": {
          "model_module": "@jupyter-widgets/base",
          "model_name": "LayoutModel",
          "model_module_version": "1.2.0",
          "state": {
            "_model_module": "@jupyter-widgets/base",
            "_model_module_version": "1.2.0",
            "_model_name": "LayoutModel",
            "_view_count": null,
            "_view_module": "@jupyter-widgets/base",
            "_view_module_version": "1.2.0",
            "_view_name": "LayoutView",
            "align_content": null,
            "align_items": null,
            "align_self": null,
            "border": null,
            "bottom": null,
            "display": null,
            "flex": null,
            "flex_flow": null,
            "grid_area": null,
            "grid_auto_columns": null,
            "grid_auto_flow": null,
            "grid_auto_rows": null,
            "grid_column": null,
            "grid_gap": null,
            "grid_row": null,
            "grid_template_areas": null,
            "grid_template_columns": null,
            "grid_template_rows": null,
            "height": null,
            "justify_content": null,
            "justify_items": null,
            "left": null,
            "margin": null,
            "max_height": null,
            "max_width": null,
            "min_height": null,
            "min_width": null,
            "object_fit": null,
            "object_position": null,
            "order": null,
            "overflow": null,
            "overflow_x": null,
            "overflow_y": null,
            "padding": null,
            "right": null,
            "top": null,
            "visibility": null,
            "width": null
          }
        },
        "1539e63c37cf4f49a04b157bc2dd22b6": {
          "model_module": "@jupyter-widgets/controls",
          "model_name": "DescriptionStyleModel",
          "model_module_version": "1.5.0",
          "state": {
            "_model_module": "@jupyter-widgets/controls",
            "_model_module_version": "1.5.0",
            "_model_name": "DescriptionStyleModel",
            "_view_count": null,
            "_view_module": "@jupyter-widgets/base",
            "_view_module_version": "1.2.0",
            "_view_name": "StyleView",
            "description_width": ""
          }
        },
        "57622f9c652341e389e95e0e4549d9bd": {
          "model_module": "@jupyter-widgets/controls",
          "model_name": "HBoxModel",
          "model_module_version": "1.5.0",
          "state": {
            "_dom_classes": [],
            "_model_module": "@jupyter-widgets/controls",
            "_model_module_version": "1.5.0",
            "_model_name": "HBoxModel",
            "_view_count": null,
            "_view_module": "@jupyter-widgets/controls",
            "_view_module_version": "1.5.0",
            "_view_name": "HBoxView",
            "box_style": "",
            "children": [
              "IPY_MODEL_2447bbe371594cb696ccb4282e1ffeec",
              "IPY_MODEL_dc6fae1e751445aeb588a923ddc4c136",
              "IPY_MODEL_3b2891bcbff84ce8b4864e27a1114ab3"
            ],
            "layout": "IPY_MODEL_0f80b53b17534182a76cdc0caf210e0d"
          }
        },
        "2447bbe371594cb696ccb4282e1ffeec": {
          "model_module": "@jupyter-widgets/controls",
          "model_name": "HTMLModel",
          "model_module_version": "1.5.0",
          "state": {
            "_dom_classes": [],
            "_model_module": "@jupyter-widgets/controls",
            "_model_module_version": "1.5.0",
            "_model_name": "HTMLModel",
            "_view_count": null,
            "_view_module": "@jupyter-widgets/controls",
            "_view_module_version": "1.5.0",
            "_view_name": "HTMLView",
            "description": "",
            "description_tooltip": null,
            "layout": "IPY_MODEL_59dcda5066e44efea7f225229765d7e6",
            "placeholder": "​",
            "style": "IPY_MODEL_b91e46cb5a8f45e0974359d5f32f292d",
            "value": "Downloading data: 100%"
          }
        },
        "dc6fae1e751445aeb588a923ddc4c136": {
          "model_module": "@jupyter-widgets/controls",
          "model_name": "FloatProgressModel",
          "model_module_version": "1.5.0",
          "state": {
            "_dom_classes": [],
            "_model_module": "@jupyter-widgets/controls",
            "_model_module_version": "1.5.0",
            "_model_name": "FloatProgressModel",
            "_view_count": null,
            "_view_module": "@jupyter-widgets/controls",
            "_view_module_version": "1.5.0",
            "_view_name": "ProgressView",
            "bar_style": "success",
            "description": "",
            "description_tooltip": null,
            "layout": "IPY_MODEL_fffa06c3957243d0876cecef6f7d12d1",
            "max": 1867777623,
            "min": 0,
            "orientation": "horizontal",
            "style": "IPY_MODEL_36aec0ed1dd046358ad3cc41f4e17ac9",
            "value": 1867777623
          }
        },
        "3b2891bcbff84ce8b4864e27a1114ab3": {
          "model_module": "@jupyter-widgets/controls",
          "model_name": "HTMLModel",
          "model_module_version": "1.5.0",
          "state": {
            "_dom_classes": [],
            "_model_module": "@jupyter-widgets/controls",
            "_model_module_version": "1.5.0",
            "_model_name": "HTMLModel",
            "_view_count": null,
            "_view_module": "@jupyter-widgets/controls",
            "_view_module_version": "1.5.0",
            "_view_name": "HTMLView",
            "description": "",
            "description_tooltip": null,
            "layout": "IPY_MODEL_28f88360d3eb4dd3b043f4423982fb77",
            "placeholder": "​",
            "style": "IPY_MODEL_06385c7f78104e0bba4bb141a4ab82dc",
            "value": " 1.87G/1.87G [00:38&lt;00:00, 62.3MB/s]"
          }
        },
        "0f80b53b17534182a76cdc0caf210e0d": {
          "model_module": "@jupyter-widgets/base",
          "model_name": "LayoutModel",
          "model_module_version": "1.2.0",
          "state": {
            "_model_module": "@jupyter-widgets/base",
            "_model_module_version": "1.2.0",
            "_model_name": "LayoutModel",
            "_view_count": null,
            "_view_module": "@jupyter-widgets/base",
            "_view_module_version": "1.2.0",
            "_view_name": "LayoutView",
            "align_content": null,
            "align_items": null,
            "align_self": null,
            "border": null,
            "bottom": null,
            "display": null,
            "flex": null,
            "flex_flow": null,
            "grid_area": null,
            "grid_auto_columns": null,
            "grid_auto_flow": null,
            "grid_auto_rows": null,
            "grid_column": null,
            "grid_gap": null,
            "grid_row": null,
            "grid_template_areas": null,
            "grid_template_columns": null,
            "grid_template_rows": null,
            "height": null,
            "justify_content": null,
            "justify_items": null,
            "left": null,
            "margin": null,
            "max_height": null,
            "max_width": null,
            "min_height": null,
            "min_width": null,
            "object_fit": null,
            "object_position": null,
            "order": null,
            "overflow": null,
            "overflow_x": null,
            "overflow_y": null,
            "padding": null,
            "right": null,
            "top": null,
            "visibility": null,
            "width": null
          }
        },
        "59dcda5066e44efea7f225229765d7e6": {
          "model_module": "@jupyter-widgets/base",
          "model_name": "LayoutModel",
          "model_module_version": "1.2.0",
          "state": {
            "_model_module": "@jupyter-widgets/base",
            "_model_module_version": "1.2.0",
            "_model_name": "LayoutModel",
            "_view_count": null,
            "_view_module": "@jupyter-widgets/base",
            "_view_module_version": "1.2.0",
            "_view_name": "LayoutView",
            "align_content": null,
            "align_items": null,
            "align_self": null,
            "border": null,
            "bottom": null,
            "display": null,
            "flex": null,
            "flex_flow": null,
            "grid_area": null,
            "grid_auto_columns": null,
            "grid_auto_flow": null,
            "grid_auto_rows": null,
            "grid_column": null,
            "grid_gap": null,
            "grid_row": null,
            "grid_template_areas": null,
            "grid_template_columns": null,
            "grid_template_rows": null,
            "height": null,
            "justify_content": null,
            "justify_items": null,
            "left": null,
            "margin": null,
            "max_height": null,
            "max_width": null,
            "min_height": null,
            "min_width": null,
            "object_fit": null,
            "object_position": null,
            "order": null,
            "overflow": null,
            "overflow_x": null,
            "overflow_y": null,
            "padding": null,
            "right": null,
            "top": null,
            "visibility": null,
            "width": null
          }
        },
        "b91e46cb5a8f45e0974359d5f32f292d": {
          "model_module": "@jupyter-widgets/controls",
          "model_name": "DescriptionStyleModel",
          "model_module_version": "1.5.0",
          "state": {
            "_model_module": "@jupyter-widgets/controls",
            "_model_module_version": "1.5.0",
            "_model_name": "DescriptionStyleModel",
            "_view_count": null,
            "_view_module": "@jupyter-widgets/base",
            "_view_module_version": "1.2.0",
            "_view_name": "StyleView",
            "description_width": ""
          }
        },
        "fffa06c3957243d0876cecef6f7d12d1": {
          "model_module": "@jupyter-widgets/base",
          "model_name": "LayoutModel",
          "model_module_version": "1.2.0",
          "state": {
            "_model_module": "@jupyter-widgets/base",
            "_model_module_version": "1.2.0",
            "_model_name": "LayoutModel",
            "_view_count": null,
            "_view_module": "@jupyter-widgets/base",
            "_view_module_version": "1.2.0",
            "_view_name": "LayoutView",
            "align_content": null,
            "align_items": null,
            "align_self": null,
            "border": null,
            "bottom": null,
            "display": null,
            "flex": null,
            "flex_flow": null,
            "grid_area": null,
            "grid_auto_columns": null,
            "grid_auto_flow": null,
            "grid_auto_rows": null,
            "grid_column": null,
            "grid_gap": null,
            "grid_row": null,
            "grid_template_areas": null,
            "grid_template_columns": null,
            "grid_template_rows": null,
            "height": null,
            "justify_content": null,
            "justify_items": null,
            "left": null,
            "margin": null,
            "max_height": null,
            "max_width": null,
            "min_height": null,
            "min_width": null,
            "object_fit": null,
            "object_position": null,
            "order": null,
            "overflow": null,
            "overflow_x": null,
            "overflow_y": null,
            "padding": null,
            "right": null,
            "top": null,
            "visibility": null,
            "width": null
          }
        },
        "36aec0ed1dd046358ad3cc41f4e17ac9": {
          "model_module": "@jupyter-widgets/controls",
          "model_name": "ProgressStyleModel",
          "model_module_version": "1.5.0",
          "state": {
            "_model_module": "@jupyter-widgets/controls",
            "_model_module_version": "1.5.0",
            "_model_name": "ProgressStyleModel",
            "_view_count": null,
            "_view_module": "@jupyter-widgets/base",
            "_view_module_version": "1.2.0",
            "_view_name": "StyleView",
            "bar_color": null,
            "description_width": ""
          }
        },
        "28f88360d3eb4dd3b043f4423982fb77": {
          "model_module": "@jupyter-widgets/base",
          "model_name": "LayoutModel",
          "model_module_version": "1.2.0",
          "state": {
            "_model_module": "@jupyter-widgets/base",
            "_model_module_version": "1.2.0",
            "_model_name": "LayoutModel",
            "_view_count": null,
            "_view_module": "@jupyter-widgets/base",
            "_view_module_version": "1.2.0",
            "_view_name": "LayoutView",
            "align_content": null,
            "align_items": null,
            "align_self": null,
            "border": null,
            "bottom": null,
            "display": null,
            "flex": null,
            "flex_flow": null,
            "grid_area": null,
            "grid_auto_columns": null,
            "grid_auto_flow": null,
            "grid_auto_rows": null,
            "grid_column": null,
            "grid_gap": null,
            "grid_row": null,
            "grid_template_areas": null,
            "grid_template_columns": null,
            "grid_template_rows": null,
            "height": null,
            "justify_content": null,
            "justify_items": null,
            "left": null,
            "margin": null,
            "max_height": null,
            "max_width": null,
            "min_height": null,
            "min_width": null,
            "object_fit": null,
            "object_position": null,
            "order": null,
            "overflow": null,
            "overflow_x": null,
            "overflow_y": null,
            "padding": null,
            "right": null,
            "top": null,
            "visibility": null,
            "width": null
          }
        },
        "06385c7f78104e0bba4bb141a4ab82dc": {
          "model_module": "@jupyter-widgets/controls",
          "model_name": "DescriptionStyleModel",
          "model_module_version": "1.5.0",
          "state": {
            "_model_module": "@jupyter-widgets/controls",
            "_model_module_version": "1.5.0",
            "_model_name": "DescriptionStyleModel",
            "_view_count": null,
            "_view_module": "@jupyter-widgets/base",
            "_view_module_version": "1.2.0",
            "_view_name": "StyleView",
            "description_width": ""
          }
        },
        "30f288069a874750865f66b32dcf3c79": {
          "model_module": "@jupyter-widgets/controls",
          "model_name": "HBoxModel",
          "model_module_version": "1.5.0",
          "state": {
            "_dom_classes": [],
            "_model_module": "@jupyter-widgets/controls",
            "_model_module_version": "1.5.0",
            "_model_name": "HBoxModel",
            "_view_count": null,
            "_view_module": "@jupyter-widgets/controls",
            "_view_module_version": "1.5.0",
            "_view_name": "HBoxView",
            "box_style": "",
            "children": [
              "IPY_MODEL_982d7d421b5b438f954fdc632d5d717d",
              "IPY_MODEL_d36471472684419abc7d385344a64ba8",
              "IPY_MODEL_156fae358fd4469bb192656db9589d2c"
            ],
            "layout": "IPY_MODEL_3ffeb4c0a4bf4de88e9e5946cfc27026"
          }
        },
        "982d7d421b5b438f954fdc632d5d717d": {
          "model_module": "@jupyter-widgets/controls",
          "model_name": "HTMLModel",
          "model_module_version": "1.5.0",
          "state": {
            "_dom_classes": [],
            "_model_module": "@jupyter-widgets/controls",
            "_model_module_version": "1.5.0",
            "_model_name": "HTMLModel",
            "_view_count": null,
            "_view_module": "@jupyter-widgets/controls",
            "_view_module_version": "1.5.0",
            "_view_name": "HTMLView",
            "description": "",
            "description_tooltip": null,
            "layout": "IPY_MODEL_ad5f038601f34cb597ae937313398ec7",
            "placeholder": "​",
            "style": "IPY_MODEL_b9a605f47fce4d628068e819690d72a9",
            "value": "Extracting data files: 100%"
          }
        },
        "d36471472684419abc7d385344a64ba8": {
          "model_module": "@jupyter-widgets/controls",
          "model_name": "FloatProgressModel",
          "model_module_version": "1.5.0",
          "state": {
            "_dom_classes": [],
            "_model_module": "@jupyter-widgets/controls",
            "_model_module_version": "1.5.0",
            "_model_name": "FloatProgressModel",
            "_view_count": null,
            "_view_module": "@jupyter-widgets/controls",
            "_view_module_version": "1.5.0",
            "_view_name": "ProgressView",
            "bar_style": "success",
            "description": "",
            "description_tooltip": null,
            "layout": "IPY_MODEL_5b78179825fa42ea9a55e29e561dc0f1",
            "max": 1,
            "min": 0,
            "orientation": "horizontal",
            "style": "IPY_MODEL_2d834cc9bc954b00b324a912db7d1331",
            "value": 1
          }
        },
        "156fae358fd4469bb192656db9589d2c": {
          "model_module": "@jupyter-widgets/controls",
          "model_name": "HTMLModel",
          "model_module_version": "1.5.0",
          "state": {
            "_dom_classes": [],
            "_model_module": "@jupyter-widgets/controls",
            "_model_module_version": "1.5.0",
            "_model_name": "HTMLModel",
            "_view_count": null,
            "_view_module": "@jupyter-widgets/controls",
            "_view_module_version": "1.5.0",
            "_view_name": "HTMLView",
            "description": "",
            "description_tooltip": null,
            "layout": "IPY_MODEL_0fa67593b8b644a5b079f51f82bb6318",
            "placeholder": "​",
            "style": "IPY_MODEL_76c1419e0d1b46a88397c8ed123f22a3",
            "value": " 1/1 [00:00&lt;00:00,  3.20it/s]"
          }
        },
        "3ffeb4c0a4bf4de88e9e5946cfc27026": {
          "model_module": "@jupyter-widgets/base",
          "model_name": "LayoutModel",
          "model_module_version": "1.2.0",
          "state": {
            "_model_module": "@jupyter-widgets/base",
            "_model_module_version": "1.2.0",
            "_model_name": "LayoutModel",
            "_view_count": null,
            "_view_module": "@jupyter-widgets/base",
            "_view_module_version": "1.2.0",
            "_view_name": "LayoutView",
            "align_content": null,
            "align_items": null,
            "align_self": null,
            "border": null,
            "bottom": null,
            "display": null,
            "flex": null,
            "flex_flow": null,
            "grid_area": null,
            "grid_auto_columns": null,
            "grid_auto_flow": null,
            "grid_auto_rows": null,
            "grid_column": null,
            "grid_gap": null,
            "grid_row": null,
            "grid_template_areas": null,
            "grid_template_columns": null,
            "grid_template_rows": null,
            "height": null,
            "justify_content": null,
            "justify_items": null,
            "left": null,
            "margin": null,
            "max_height": null,
            "max_width": null,
            "min_height": null,
            "min_width": null,
            "object_fit": null,
            "object_position": null,
            "order": null,
            "overflow": null,
            "overflow_x": null,
            "overflow_y": null,
            "padding": null,
            "right": null,
            "top": null,
            "visibility": null,
            "width": null
          }
        },
        "ad5f038601f34cb597ae937313398ec7": {
          "model_module": "@jupyter-widgets/base",
          "model_name": "LayoutModel",
          "model_module_version": "1.2.0",
          "state": {
            "_model_module": "@jupyter-widgets/base",
            "_model_module_version": "1.2.0",
            "_model_name": "LayoutModel",
            "_view_count": null,
            "_view_module": "@jupyter-widgets/base",
            "_view_module_version": "1.2.0",
            "_view_name": "LayoutView",
            "align_content": null,
            "align_items": null,
            "align_self": null,
            "border": null,
            "bottom": null,
            "display": null,
            "flex": null,
            "flex_flow": null,
            "grid_area": null,
            "grid_auto_columns": null,
            "grid_auto_flow": null,
            "grid_auto_rows": null,
            "grid_column": null,
            "grid_gap": null,
            "grid_row": null,
            "grid_template_areas": null,
            "grid_template_columns": null,
            "grid_template_rows": null,
            "height": null,
            "justify_content": null,
            "justify_items": null,
            "left": null,
            "margin": null,
            "max_height": null,
            "max_width": null,
            "min_height": null,
            "min_width": null,
            "object_fit": null,
            "object_position": null,
            "order": null,
            "overflow": null,
            "overflow_x": null,
            "overflow_y": null,
            "padding": null,
            "right": null,
            "top": null,
            "visibility": null,
            "width": null
          }
        },
        "b9a605f47fce4d628068e819690d72a9": {
          "model_module": "@jupyter-widgets/controls",
          "model_name": "DescriptionStyleModel",
          "model_module_version": "1.5.0",
          "state": {
            "_model_module": "@jupyter-widgets/controls",
            "_model_module_version": "1.5.0",
            "_model_name": "DescriptionStyleModel",
            "_view_count": null,
            "_view_module": "@jupyter-widgets/base",
            "_view_module_version": "1.2.0",
            "_view_name": "StyleView",
            "description_width": ""
          }
        },
        "5b78179825fa42ea9a55e29e561dc0f1": {
          "model_module": "@jupyter-widgets/base",
          "model_name": "LayoutModel",
          "model_module_version": "1.2.0",
          "state": {
            "_model_module": "@jupyter-widgets/base",
            "_model_module_version": "1.2.0",
            "_model_name": "LayoutModel",
            "_view_count": null,
            "_view_module": "@jupyter-widgets/base",
            "_view_module_version": "1.2.0",
            "_view_name": "LayoutView",
            "align_content": null,
            "align_items": null,
            "align_self": null,
            "border": null,
            "bottom": null,
            "display": null,
            "flex": null,
            "flex_flow": null,
            "grid_area": null,
            "grid_auto_columns": null,
            "grid_auto_flow": null,
            "grid_auto_rows": null,
            "grid_column": null,
            "grid_gap": null,
            "grid_row": null,
            "grid_template_areas": null,
            "grid_template_columns": null,
            "grid_template_rows": null,
            "height": null,
            "justify_content": null,
            "justify_items": null,
            "left": null,
            "margin": null,
            "max_height": null,
            "max_width": null,
            "min_height": null,
            "min_width": null,
            "object_fit": null,
            "object_position": null,
            "order": null,
            "overflow": null,
            "overflow_x": null,
            "overflow_y": null,
            "padding": null,
            "right": null,
            "top": null,
            "visibility": null,
            "width": null
          }
        },
        "2d834cc9bc954b00b324a912db7d1331": {
          "model_module": "@jupyter-widgets/controls",
          "model_name": "ProgressStyleModel",
          "model_module_version": "1.5.0",
          "state": {
            "_model_module": "@jupyter-widgets/controls",
            "_model_module_version": "1.5.0",
            "_model_name": "ProgressStyleModel",
            "_view_count": null,
            "_view_module": "@jupyter-widgets/base",
            "_view_module_version": "1.2.0",
            "_view_name": "StyleView",
            "bar_color": null,
            "description_width": ""
          }
        },
        "0fa67593b8b644a5b079f51f82bb6318": {
          "model_module": "@jupyter-widgets/base",
          "model_name": "LayoutModel",
          "model_module_version": "1.2.0",
          "state": {
            "_model_module": "@jupyter-widgets/base",
            "_model_module_version": "1.2.0",
            "_model_name": "LayoutModel",
            "_view_count": null,
            "_view_module": "@jupyter-widgets/base",
            "_view_module_version": "1.2.0",
            "_view_name": "LayoutView",
            "align_content": null,
            "align_items": null,
            "align_self": null,
            "border": null,
            "bottom": null,
            "display": null,
            "flex": null,
            "flex_flow": null,
            "grid_area": null,
            "grid_auto_columns": null,
            "grid_auto_flow": null,
            "grid_auto_rows": null,
            "grid_column": null,
            "grid_gap": null,
            "grid_row": null,
            "grid_template_areas": null,
            "grid_template_columns": null,
            "grid_template_rows": null,
            "height": null,
            "justify_content": null,
            "justify_items": null,
            "left": null,
            "margin": null,
            "max_height": null,
            "max_width": null,
            "min_height": null,
            "min_width": null,
            "object_fit": null,
            "object_position": null,
            "order": null,
            "overflow": null,
            "overflow_x": null,
            "overflow_y": null,
            "padding": null,
            "right": null,
            "top": null,
            "visibility": null,
            "width": null
          }
        },
        "76c1419e0d1b46a88397c8ed123f22a3": {
          "model_module": "@jupyter-widgets/controls",
          "model_name": "DescriptionStyleModel",
          "model_module_version": "1.5.0",
          "state": {
            "_model_module": "@jupyter-widgets/controls",
            "_model_module_version": "1.5.0",
            "_model_name": "DescriptionStyleModel",
            "_view_count": null,
            "_view_module": "@jupyter-widgets/base",
            "_view_module_version": "1.2.0",
            "_view_name": "StyleView",
            "description_width": ""
          }
        },
        "5c1981becddc47b386e654642df02a05": {
          "model_module": "@jupyter-widgets/controls",
          "model_name": "HBoxModel",
          "model_module_version": "1.5.0",
          "state": {
            "_dom_classes": [],
            "_model_module": "@jupyter-widgets/controls",
            "_model_module_version": "1.5.0",
            "_model_name": "HBoxModel",
            "_view_count": null,
            "_view_module": "@jupyter-widgets/controls",
            "_view_module_version": "1.5.0",
            "_view_name": "HBoxView",
            "box_style": "",
            "children": [
              "IPY_MODEL_86cc4733cc474a88bc21ba4bf522958e",
              "IPY_MODEL_37a5748f622a4d3ebc3c31a374fb7336",
              "IPY_MODEL_143911c4b8924bbb963111e15ba1b5bb"
            ],
            "layout": "IPY_MODEL_2c16b274b3264d24b6354a26ff051a9e"
          }
        },
        "86cc4733cc474a88bc21ba4bf522958e": {
          "model_module": "@jupyter-widgets/controls",
          "model_name": "HTMLModel",
          "model_module_version": "1.5.0",
          "state": {
            "_dom_classes": [],
            "_model_module": "@jupyter-widgets/controls",
            "_model_module_version": "1.5.0",
            "_model_name": "HTMLModel",
            "_view_count": null,
            "_view_module": "@jupyter-widgets/controls",
            "_view_module_version": "1.5.0",
            "_view_name": "HTMLView",
            "description": "",
            "description_tooltip": null,
            "layout": "IPY_MODEL_7fd8659ce10e46518fbb71f0ce0e54f6",
            "placeholder": "​",
            "style": "IPY_MODEL_bd5334f4f07849a283eee0c019d089f0",
            "value": "Generating train split: "
          }
        },
        "37a5748f622a4d3ebc3c31a374fb7336": {
          "model_module": "@jupyter-widgets/controls",
          "model_name": "FloatProgressModel",
          "model_module_version": "1.5.0",
          "state": {
            "_dom_classes": [],
            "_model_module": "@jupyter-widgets/controls",
            "_model_module_version": "1.5.0",
            "_model_name": "FloatProgressModel",
            "_view_count": null,
            "_view_module": "@jupyter-widgets/controls",
            "_view_module_version": "1.5.0",
            "_view_name": "ProgressView",
            "bar_style": "success",
            "description": "",
            "description_tooltip": null,
            "layout": "IPY_MODEL_e6cca08dacb44642b5daa9fa1f31333d",
            "max": 1,
            "min": 0,
            "orientation": "horizontal",
            "style": "IPY_MODEL_7b2c309a0dbd44e9925e820b8edd0495",
            "value": 1
          }
        },
        "143911c4b8924bbb963111e15ba1b5bb": {
          "model_module": "@jupyter-widgets/controls",
          "model_name": "HTMLModel",
          "model_module_version": "1.5.0",
          "state": {
            "_dom_classes": [],
            "_model_module": "@jupyter-widgets/controls",
            "_model_module_version": "1.5.0",
            "_model_name": "HTMLModel",
            "_view_count": null,
            "_view_module": "@jupyter-widgets/controls",
            "_view_module_version": "1.5.0",
            "_view_name": "HTMLView",
            "description": "",
            "description_tooltip": null,
            "layout": "IPY_MODEL_769725b3183e44899aa1a35d1a4821df",
            "placeholder": "​",
            "style": "IPY_MODEL_a70267f1c3834acfb385e94cfdcb0810",
            "value": " 1118658/0 [01:22&lt;00:00, 16266.99 examples/s]"
          }
        },
        "2c16b274b3264d24b6354a26ff051a9e": {
          "model_module": "@jupyter-widgets/base",
          "model_name": "LayoutModel",
          "model_module_version": "1.2.0",
          "state": {
            "_model_module": "@jupyter-widgets/base",
            "_model_module_version": "1.2.0",
            "_model_name": "LayoutModel",
            "_view_count": null,
            "_view_module": "@jupyter-widgets/base",
            "_view_module_version": "1.2.0",
            "_view_name": "LayoutView",
            "align_content": null,
            "align_items": null,
            "align_self": null,
            "border": null,
            "bottom": null,
            "display": null,
            "flex": null,
            "flex_flow": null,
            "grid_area": null,
            "grid_auto_columns": null,
            "grid_auto_flow": null,
            "grid_auto_rows": null,
            "grid_column": null,
            "grid_gap": null,
            "grid_row": null,
            "grid_template_areas": null,
            "grid_template_columns": null,
            "grid_template_rows": null,
            "height": null,
            "justify_content": null,
            "justify_items": null,
            "left": null,
            "margin": null,
            "max_height": null,
            "max_width": null,
            "min_height": null,
            "min_width": null,
            "object_fit": null,
            "object_position": null,
            "order": null,
            "overflow": null,
            "overflow_x": null,
            "overflow_y": null,
            "padding": null,
            "right": null,
            "top": null,
            "visibility": null,
            "width": null
          }
        },
        "7fd8659ce10e46518fbb71f0ce0e54f6": {
          "model_module": "@jupyter-widgets/base",
          "model_name": "LayoutModel",
          "model_module_version": "1.2.0",
          "state": {
            "_model_module": "@jupyter-widgets/base",
            "_model_module_version": "1.2.0",
            "_model_name": "LayoutModel",
            "_view_count": null,
            "_view_module": "@jupyter-widgets/base",
            "_view_module_version": "1.2.0",
            "_view_name": "LayoutView",
            "align_content": null,
            "align_items": null,
            "align_self": null,
            "border": null,
            "bottom": null,
            "display": null,
            "flex": null,
            "flex_flow": null,
            "grid_area": null,
            "grid_auto_columns": null,
            "grid_auto_flow": null,
            "grid_auto_rows": null,
            "grid_column": null,
            "grid_gap": null,
            "grid_row": null,
            "grid_template_areas": null,
            "grid_template_columns": null,
            "grid_template_rows": null,
            "height": null,
            "justify_content": null,
            "justify_items": null,
            "left": null,
            "margin": null,
            "max_height": null,
            "max_width": null,
            "min_height": null,
            "min_width": null,
            "object_fit": null,
            "object_position": null,
            "order": null,
            "overflow": null,
            "overflow_x": null,
            "overflow_y": null,
            "padding": null,
            "right": null,
            "top": null,
            "visibility": null,
            "width": null
          }
        },
        "bd5334f4f07849a283eee0c019d089f0": {
          "model_module": "@jupyter-widgets/controls",
          "model_name": "DescriptionStyleModel",
          "model_module_version": "1.5.0",
          "state": {
            "_model_module": "@jupyter-widgets/controls",
            "_model_module_version": "1.5.0",
            "_model_name": "DescriptionStyleModel",
            "_view_count": null,
            "_view_module": "@jupyter-widgets/base",
            "_view_module_version": "1.2.0",
            "_view_name": "StyleView",
            "description_width": ""
          }
        },
        "e6cca08dacb44642b5daa9fa1f31333d": {
          "model_module": "@jupyter-widgets/base",
          "model_name": "LayoutModel",
          "model_module_version": "1.2.0",
          "state": {
            "_model_module": "@jupyter-widgets/base",
            "_model_module_version": "1.2.0",
            "_model_name": "LayoutModel",
            "_view_count": null,
            "_view_module": "@jupyter-widgets/base",
            "_view_module_version": "1.2.0",
            "_view_name": "LayoutView",
            "align_content": null,
            "align_items": null,
            "align_self": null,
            "border": null,
            "bottom": null,
            "display": null,
            "flex": null,
            "flex_flow": null,
            "grid_area": null,
            "grid_auto_columns": null,
            "grid_auto_flow": null,
            "grid_auto_rows": null,
            "grid_column": null,
            "grid_gap": null,
            "grid_row": null,
            "grid_template_areas": null,
            "grid_template_columns": null,
            "grid_template_rows": null,
            "height": null,
            "justify_content": null,
            "justify_items": null,
            "left": null,
            "margin": null,
            "max_height": null,
            "max_width": null,
            "min_height": null,
            "min_width": null,
            "object_fit": null,
            "object_position": null,
            "order": null,
            "overflow": null,
            "overflow_x": null,
            "overflow_y": null,
            "padding": null,
            "right": null,
            "top": null,
            "visibility": null,
            "width": "20px"
          }
        },
        "7b2c309a0dbd44e9925e820b8edd0495": {
          "model_module": "@jupyter-widgets/controls",
          "model_name": "ProgressStyleModel",
          "model_module_version": "1.5.0",
          "state": {
            "_model_module": "@jupyter-widgets/controls",
            "_model_module_version": "1.5.0",
            "_model_name": "ProgressStyleModel",
            "_view_count": null,
            "_view_module": "@jupyter-widgets/base",
            "_view_module_version": "1.2.0",
            "_view_name": "StyleView",
            "bar_color": null,
            "description_width": ""
          }
        },
        "769725b3183e44899aa1a35d1a4821df": {
          "model_module": "@jupyter-widgets/base",
          "model_name": "LayoutModel",
          "model_module_version": "1.2.0",
          "state": {
            "_model_module": "@jupyter-widgets/base",
            "_model_module_version": "1.2.0",
            "_model_name": "LayoutModel",
            "_view_count": null,
            "_view_module": "@jupyter-widgets/base",
            "_view_module_version": "1.2.0",
            "_view_name": "LayoutView",
            "align_content": null,
            "align_items": null,
            "align_self": null,
            "border": null,
            "bottom": null,
            "display": null,
            "flex": null,
            "flex_flow": null,
            "grid_area": null,
            "grid_auto_columns": null,
            "grid_auto_flow": null,
            "grid_auto_rows": null,
            "grid_column": null,
            "grid_gap": null,
            "grid_row": null,
            "grid_template_areas": null,
            "grid_template_columns": null,
            "grid_template_rows": null,
            "height": null,
            "justify_content": null,
            "justify_items": null,
            "left": null,
            "margin": null,
            "max_height": null,
            "max_width": null,
            "min_height": null,
            "min_width": null,
            "object_fit": null,
            "object_position": null,
            "order": null,
            "overflow": null,
            "overflow_x": null,
            "overflow_y": null,
            "padding": null,
            "right": null,
            "top": null,
            "visibility": null,
            "width": null
          }
        },
        "a70267f1c3834acfb385e94cfdcb0810": {
          "model_module": "@jupyter-widgets/controls",
          "model_name": "DescriptionStyleModel",
          "model_module_version": "1.5.0",
          "state": {
            "_model_module": "@jupyter-widgets/controls",
            "_model_module_version": "1.5.0",
            "_model_name": "DescriptionStyleModel",
            "_view_count": null,
            "_view_module": "@jupyter-widgets/base",
            "_view_module_version": "1.2.0",
            "_view_name": "StyleView",
            "description_width": ""
          }
        }
      }
    }
  },
  "cells": [
    {
      "cell_type": "markdown",
      "metadata": {
        "id": "view-in-github",
        "colab_type": "text"
      },
      "source": [
        "<a href=\"https://colab.research.google.com/github/petruzl/LEANDRO_PETRUZ_DDF_DATAANALYST_082023/blob/main/dfcase01.ipynb\" target=\"_parent\"><img src=\"https://colab.research.google.com/assets/colab-badge.svg\" alt=\"Open In Colab\"/></a>"
      ]
    },
    {
      "cell_type": "code",
      "execution_count": 3,
      "metadata": {
        "colab": {
          "base_uri": "https://localhost:8080/"
        },
        "id": "kfwO0ych1CHV",
        "outputId": "b201158f-a8dc-4731-df8e-7c3a31297439"
      },
      "outputs": [
        {
          "output_type": "stream",
          "name": "stdout",
          "text": [
            "Collecting transformers\n",
            "  Downloading transformers-4.33.2-py3-none-any.whl (7.6 MB)\n",
            "\u001b[2K     \u001b[90m━━━━━━━━━━━━━━━━━━━━━━━━━━━━━━━━━━━━━━━━\u001b[0m \u001b[32m7.6/7.6 MB\u001b[0m \u001b[31m14.6 MB/s\u001b[0m eta \u001b[36m0:00:00\u001b[0m\n",
            "\u001b[?25hRequirement already satisfied: filelock in /usr/local/lib/python3.10/dist-packages (from transformers) (3.12.2)\n",
            "Collecting huggingface-hub<1.0,>=0.15.1 (from transformers)\n",
            "  Downloading huggingface_hub-0.17.1-py3-none-any.whl (294 kB)\n",
            "\u001b[2K     \u001b[90m━━━━━━━━━━━━━━━━━━━━━━━━━━━━━━━━━━━━━━\u001b[0m \u001b[32m294.8/294.8 kB\u001b[0m \u001b[31m27.8 MB/s\u001b[0m eta \u001b[36m0:00:00\u001b[0m\n",
            "\u001b[?25hRequirement already satisfied: numpy>=1.17 in /usr/local/lib/python3.10/dist-packages (from transformers) (1.23.5)\n",
            "Requirement already satisfied: packaging>=20.0 in /usr/local/lib/python3.10/dist-packages (from transformers) (23.1)\n",
            "Requirement already satisfied: pyyaml>=5.1 in /usr/local/lib/python3.10/dist-packages (from transformers) (6.0.1)\n",
            "Requirement already satisfied: regex!=2019.12.17 in /usr/local/lib/python3.10/dist-packages (from transformers) (2023.6.3)\n",
            "Requirement already satisfied: requests in /usr/local/lib/python3.10/dist-packages (from transformers) (2.31.0)\n",
            "Collecting tokenizers!=0.11.3,<0.14,>=0.11.1 (from transformers)\n",
            "  Downloading tokenizers-0.13.3-cp310-cp310-manylinux_2_17_x86_64.manylinux2014_x86_64.whl (7.8 MB)\n",
            "\u001b[2K     \u001b[90m━━━━━━━━━━━━━━━━━━━━━━━━━━━━━━━━━━━━━━━━\u001b[0m \u001b[32m7.8/7.8 MB\u001b[0m \u001b[31m38.0 MB/s\u001b[0m eta \u001b[36m0:00:00\u001b[0m\n",
            "\u001b[?25hCollecting safetensors>=0.3.1 (from transformers)\n",
            "  Downloading safetensors-0.3.3-cp310-cp310-manylinux_2_17_x86_64.manylinux2014_x86_64.whl (1.3 MB)\n",
            "\u001b[2K     \u001b[90m━━━━━━━━━━━━━━━━━━━━━━━━━━━━━━━━━━━━━━━━\u001b[0m \u001b[32m1.3/1.3 MB\u001b[0m \u001b[31m40.6 MB/s\u001b[0m eta \u001b[36m0:00:00\u001b[0m\n",
            "\u001b[?25hRequirement already satisfied: tqdm>=4.27 in /usr/local/lib/python3.10/dist-packages (from transformers) (4.66.1)\n",
            "Requirement already satisfied: fsspec in /usr/local/lib/python3.10/dist-packages (from huggingface-hub<1.0,>=0.15.1->transformers) (2023.6.0)\n",
            "Requirement already satisfied: typing-extensions>=3.7.4.3 in /usr/local/lib/python3.10/dist-packages (from huggingface-hub<1.0,>=0.15.1->transformers) (4.5.0)\n",
            "Requirement already satisfied: charset-normalizer<4,>=2 in /usr/local/lib/python3.10/dist-packages (from requests->transformers) (3.2.0)\n",
            "Requirement already satisfied: idna<4,>=2.5 in /usr/local/lib/python3.10/dist-packages (from requests->transformers) (3.4)\n",
            "Requirement already satisfied: urllib3<3,>=1.21.1 in /usr/local/lib/python3.10/dist-packages (from requests->transformers) (2.0.4)\n",
            "Requirement already satisfied: certifi>=2017.4.17 in /usr/local/lib/python3.10/dist-packages (from requests->transformers) (2023.7.22)\n",
            "Installing collected packages: tokenizers, safetensors, huggingface-hub, transformers\n",
            "Successfully installed huggingface-hub-0.17.1 safetensors-0.3.3 tokenizers-0.13.3 transformers-4.33.2\n"
          ]
        }
      ],
      "source": [
        "!pip install transformers"
      ]
    },
    {
      "cell_type": "code",
      "source": [
        "!pip install datasets"
      ],
      "metadata": {
        "colab": {
          "base_uri": "https://localhost:8080/"
        },
        "id": "YH6ap80T1I0C",
        "outputId": "2641223b-e4e0-4077-e571-0e0fa7a4875c"
      },
      "execution_count": 4,
      "outputs": [
        {
          "output_type": "stream",
          "name": "stdout",
          "text": [
            "Collecting datasets\n",
            "  Downloading datasets-2.14.5-py3-none-any.whl (519 kB)\n",
            "\u001b[?25l     \u001b[90m━━━━━━━━━━━━━━━━━━━━━━━━━━━━━━━━━━━━━━━━\u001b[0m \u001b[32m0.0/519.6 kB\u001b[0m \u001b[31m?\u001b[0m eta \u001b[36m-:--:--\u001b[0m\r\u001b[2K     \u001b[91m━━\u001b[0m\u001b[90m╺\u001b[0m\u001b[90m━━━━━━━━━━━━━━━━━━━━━━━━━━━━━━━━━━━\u001b[0m \u001b[32m30.7/519.6 kB\u001b[0m \u001b[31m634.3 kB/s\u001b[0m eta \u001b[36m0:00:01\u001b[0m\r\u001b[2K     \u001b[91m━━━━━━━━━━\u001b[0m\u001b[91m╸\u001b[0m\u001b[90m━━━━━━━━━━━━━━━━━━━━━━━━━━━━\u001b[0m \u001b[32m143.4/519.6 kB\u001b[0m \u001b[31m1.8 MB/s\u001b[0m eta \u001b[36m0:00:01\u001b[0m\r\u001b[2K     \u001b[91m━━━━━━━━━━━━━━━━━━━━━━━━━━━━━━━━━━━━━━\u001b[0m\u001b[90m╺\u001b[0m \u001b[32m512.0/519.6 kB\u001b[0m \u001b[31m4.6 MB/s\u001b[0m eta \u001b[36m0:00:01\u001b[0m\r\u001b[2K     \u001b[90m━━━━━━━━━━━━━━━━━━━━━━━━━━━━━━━━━━━━━━━\u001b[0m \u001b[32m519.6/519.6 kB\u001b[0m \u001b[31m4.2 MB/s\u001b[0m eta \u001b[36m0:00:00\u001b[0m\n",
            "\u001b[?25hRequirement already satisfied: numpy>=1.17 in /usr/local/lib/python3.10/dist-packages (from datasets) (1.23.5)\n",
            "Requirement already satisfied: pyarrow>=8.0.0 in /usr/local/lib/python3.10/dist-packages (from datasets) (9.0.0)\n",
            "Collecting dill<0.3.8,>=0.3.0 (from datasets)\n",
            "  Downloading dill-0.3.7-py3-none-any.whl (115 kB)\n",
            "\u001b[?25l     \u001b[90m━━━━━━━━━━━━━━━━━━━━━━━━━━━━━━━━━━━━━━━━\u001b[0m \u001b[32m0.0/115.3 kB\u001b[0m \u001b[31m?\u001b[0m eta \u001b[36m-:--:--\u001b[0m\r\u001b[2K     \u001b[90m━━━━━━━━━━━━━━━━━━━━━━━━━━━━━━━━━━━━━━\u001b[0m \u001b[32m115.3/115.3 kB\u001b[0m \u001b[31m11.8 MB/s\u001b[0m eta \u001b[36m0:00:00\u001b[0m\n",
            "\u001b[?25hRequirement already satisfied: pandas in /usr/local/lib/python3.10/dist-packages (from datasets) (1.5.3)\n",
            "Requirement already satisfied: requests>=2.19.0 in /usr/local/lib/python3.10/dist-packages (from datasets) (2.31.0)\n",
            "Requirement already satisfied: tqdm>=4.62.1 in /usr/local/lib/python3.10/dist-packages (from datasets) (4.66.1)\n",
            "Collecting xxhash (from datasets)\n",
            "  Downloading xxhash-3.3.0-cp310-cp310-manylinux_2_17_x86_64.manylinux2014_x86_64.whl (194 kB)\n",
            "\u001b[2K     \u001b[90m━━━━━━━━━━━━━━━━━━━━━━━━━━━━━━━━━━━━━━━\u001b[0m \u001b[32m194.1/194.1 kB\u001b[0m \u001b[31m5.5 MB/s\u001b[0m eta \u001b[36m0:00:00\u001b[0m\n",
            "\u001b[?25hCollecting multiprocess (from datasets)\n",
            "  Downloading multiprocess-0.70.15-py310-none-any.whl (134 kB)\n",
            "\u001b[2K     \u001b[90m━━━━━━━━━━━━━━━━━━━━━━━━━━━━━━━━━━━━━━\u001b[0m \u001b[32m134.8/134.8 kB\u001b[0m \u001b[31m12.3 MB/s\u001b[0m eta \u001b[36m0:00:00\u001b[0m\n",
            "\u001b[?25hRequirement already satisfied: fsspec[http]<2023.9.0,>=2023.1.0 in /usr/local/lib/python3.10/dist-packages (from datasets) (2023.6.0)\n",
            "Requirement already satisfied: aiohttp in /usr/local/lib/python3.10/dist-packages (from datasets) (3.8.5)\n",
            "Requirement already satisfied: huggingface-hub<1.0.0,>=0.14.0 in /usr/local/lib/python3.10/dist-packages (from datasets) (0.17.1)\n",
            "Requirement already satisfied: packaging in /usr/local/lib/python3.10/dist-packages (from datasets) (23.1)\n",
            "Requirement already satisfied: pyyaml>=5.1 in /usr/local/lib/python3.10/dist-packages (from datasets) (6.0.1)\n",
            "Requirement already satisfied: attrs>=17.3.0 in /usr/local/lib/python3.10/dist-packages (from aiohttp->datasets) (23.1.0)\n",
            "Requirement already satisfied: charset-normalizer<4.0,>=2.0 in /usr/local/lib/python3.10/dist-packages (from aiohttp->datasets) (3.2.0)\n",
            "Requirement already satisfied: multidict<7.0,>=4.5 in /usr/local/lib/python3.10/dist-packages (from aiohttp->datasets) (6.0.4)\n",
            "Requirement already satisfied: async-timeout<5.0,>=4.0.0a3 in /usr/local/lib/python3.10/dist-packages (from aiohttp->datasets) (4.0.3)\n",
            "Requirement already satisfied: yarl<2.0,>=1.0 in /usr/local/lib/python3.10/dist-packages (from aiohttp->datasets) (1.9.2)\n",
            "Requirement already satisfied: frozenlist>=1.1.1 in /usr/local/lib/python3.10/dist-packages (from aiohttp->datasets) (1.4.0)\n",
            "Requirement already satisfied: aiosignal>=1.1.2 in /usr/local/lib/python3.10/dist-packages (from aiohttp->datasets) (1.3.1)\n",
            "Requirement already satisfied: filelock in /usr/local/lib/python3.10/dist-packages (from huggingface-hub<1.0.0,>=0.14.0->datasets) (3.12.2)\n",
            "Requirement already satisfied: typing-extensions>=3.7.4.3 in /usr/local/lib/python3.10/dist-packages (from huggingface-hub<1.0.0,>=0.14.0->datasets) (4.5.0)\n",
            "Requirement already satisfied: idna<4,>=2.5 in /usr/local/lib/python3.10/dist-packages (from requests>=2.19.0->datasets) (3.4)\n",
            "Requirement already satisfied: urllib3<3,>=1.21.1 in /usr/local/lib/python3.10/dist-packages (from requests>=2.19.0->datasets) (2.0.4)\n",
            "Requirement already satisfied: certifi>=2017.4.17 in /usr/local/lib/python3.10/dist-packages (from requests>=2.19.0->datasets) (2023.7.22)\n",
            "Requirement already satisfied: python-dateutil>=2.8.1 in /usr/local/lib/python3.10/dist-packages (from pandas->datasets) (2.8.2)\n",
            "Requirement already satisfied: pytz>=2020.1 in /usr/local/lib/python3.10/dist-packages (from pandas->datasets) (2023.3.post1)\n",
            "Requirement already satisfied: six>=1.5 in /usr/local/lib/python3.10/dist-packages (from python-dateutil>=2.8.1->pandas->datasets) (1.16.0)\n",
            "Installing collected packages: xxhash, dill, multiprocess, datasets\n",
            "Successfully installed datasets-2.14.5 dill-0.3.7 multiprocess-0.70.15 xxhash-3.3.0\n"
          ]
        }
      ]
    },
    {
      "cell_type": "code",
      "source": [
        "\n",
        "from datasets import load_dataset\n",
        "\n",
        "dataset = load_dataset(\"spacemanidol/product-search-corpus\")\n",
        "\n",
        "print(dataset)"
      ],
      "metadata": {
        "colab": {
          "base_uri": "https://localhost:8080/",
          "height": 281,
          "referenced_widgets": [
            "2fb563769dbc469ca98e5507777f6b8a",
            "41c03f74dd6d453a9d9d20943c899f55",
            "f8a1a8722f6646858e9fc913f9ebba4f",
            "f0acd9d2d09c4b088208fe1ae49cb5c2",
            "e77cccd48ed94a85be60dd8455edbcc3",
            "4728d8e960804306abb0a8d1e5d8a5ac",
            "8ce628e93b6746a38b508ddda8a466ee",
            "4c87529910d94d44873ea23887f65636",
            "abaa8c89f9cc41fcbe53e3d5b5f304e7",
            "4899188e184e4367b98efc3d6d4dbf33",
            "540a65ae24b54b5c8f3082367e627e32",
            "c1d05d22ed8f47b5b3de435f964e98b8",
            "35ce897711af4c6388a1d0422d21f6c0",
            "24cd5d6c0cff49fda0d9eb2f464a16da",
            "898ab54500934991b9e35b6d5c82fc8b",
            "192cde6cfb83458f99d5bf7dd423a80f",
            "3a08bfadd5844e27b38afd90831b5a5f",
            "3e3634a4256943ce9fcdba9331ea28c1",
            "dd0d26fcaaab4f91b14e2ef10818714c",
            "d28dd3db5ee242399d3a3dd628dfdced",
            "dbc544ad29db452cb34c05136c2343de",
            "1539e63c37cf4f49a04b157bc2dd22b6",
            "57622f9c652341e389e95e0e4549d9bd",
            "2447bbe371594cb696ccb4282e1ffeec",
            "dc6fae1e751445aeb588a923ddc4c136",
            "3b2891bcbff84ce8b4864e27a1114ab3",
            "0f80b53b17534182a76cdc0caf210e0d",
            "59dcda5066e44efea7f225229765d7e6",
            "b91e46cb5a8f45e0974359d5f32f292d",
            "fffa06c3957243d0876cecef6f7d12d1",
            "36aec0ed1dd046358ad3cc41f4e17ac9",
            "28f88360d3eb4dd3b043f4423982fb77",
            "06385c7f78104e0bba4bb141a4ab82dc",
            "30f288069a874750865f66b32dcf3c79",
            "982d7d421b5b438f954fdc632d5d717d",
            "d36471472684419abc7d385344a64ba8",
            "156fae358fd4469bb192656db9589d2c",
            "3ffeb4c0a4bf4de88e9e5946cfc27026",
            "ad5f038601f34cb597ae937313398ec7",
            "b9a605f47fce4d628068e819690d72a9",
            "5b78179825fa42ea9a55e29e561dc0f1",
            "2d834cc9bc954b00b324a912db7d1331",
            "0fa67593b8b644a5b079f51f82bb6318",
            "76c1419e0d1b46a88397c8ed123f22a3",
            "5c1981becddc47b386e654642df02a05",
            "86cc4733cc474a88bc21ba4bf522958e",
            "37a5748f622a4d3ebc3c31a374fb7336",
            "143911c4b8924bbb963111e15ba1b5bb",
            "2c16b274b3264d24b6354a26ff051a9e",
            "7fd8659ce10e46518fbb71f0ce0e54f6",
            "bd5334f4f07849a283eee0c019d089f0",
            "e6cca08dacb44642b5daa9fa1f31333d",
            "7b2c309a0dbd44e9925e820b8edd0495",
            "769725b3183e44899aa1a35d1a4821df",
            "a70267f1c3834acfb385e94cfdcb0810"
          ]
        },
        "id": "bbFja13D2WwE",
        "outputId": "bda5f966-0ead-40a1-bc37-9f15751327cd"
      },
      "execution_count": 5,
      "outputs": [
        {
          "output_type": "display_data",
          "data": {
            "text/plain": [
              "Downloading builder script:   0%|          | 0.00/3.00k [00:00<?, ?B/s]"
            ],
            "application/vnd.jupyter.widget-view+json": {
              "version_major": 2,
              "version_minor": 0,
              "model_id": "2fb563769dbc469ca98e5507777f6b8a"
            }
          },
          "metadata": {}
        },
        {
          "output_type": "display_data",
          "data": {
            "text/plain": [
              "Downloading data files:   0%|          | 0/1 [00:00<?, ?it/s]"
            ],
            "application/vnd.jupyter.widget-view+json": {
              "version_major": 2,
              "version_minor": 0,
              "model_id": "c1d05d22ed8f47b5b3de435f964e98b8"
            }
          },
          "metadata": {}
        },
        {
          "output_type": "display_data",
          "data": {
            "text/plain": [
              "Downloading data:   0%|          | 0.00/1.87G [00:00<?, ?B/s]"
            ],
            "application/vnd.jupyter.widget-view+json": {
              "version_major": 2,
              "version_minor": 0,
              "model_id": "57622f9c652341e389e95e0e4549d9bd"
            }
          },
          "metadata": {}
        },
        {
          "output_type": "display_data",
          "data": {
            "text/plain": [
              "Extracting data files:   0%|          | 0/1 [00:00<?, ?it/s]"
            ],
            "application/vnd.jupyter.widget-view+json": {
              "version_major": 2,
              "version_minor": 0,
              "model_id": "30f288069a874750865f66b32dcf3c79"
            }
          },
          "metadata": {}
        },
        {
          "output_type": "display_data",
          "data": {
            "text/plain": [
              "Generating train split: 0 examples [00:00, ? examples/s]"
            ],
            "application/vnd.jupyter.widget-view+json": {
              "version_major": 2,
              "version_minor": 0,
              "model_id": "5c1981becddc47b386e654642df02a05"
            }
          },
          "metadata": {}
        },
        {
          "output_type": "stream",
          "name": "stdout",
          "text": [
            "DatasetDict({\n",
            "    train: Dataset({\n",
            "        features: ['docid', 'title', 'text'],\n",
            "        num_rows: 1118658\n",
            "    })\n",
            "})\n"
          ]
        }
      ]
    },
    {
      "cell_type": "code",
      "source": [
        "import pandas as pd\n",
        "from datasets import load_dataset"
      ],
      "metadata": {
        "id": "fLK3M0Gv2yBx"
      },
      "execution_count": 6,
      "outputs": []
    },
    {
      "cell_type": "code",
      "source": [
        "dataset = load_dataset(\"spacemanidol/product-search-corpus\")"
      ],
      "metadata": {
        "id": "1P3B_6Nh3_Fs"
      },
      "execution_count": 7,
      "outputs": []
    },
    {
      "cell_type": "code",
      "source": [
        "df = pd.DataFrame(dataset[\"train\"])"
      ],
      "metadata": {
        "id": "4x05n5kY4LyR"
      },
      "execution_count": 8,
      "outputs": []
    },
    {
      "cell_type": "code",
      "source": [
        "print(df.head())"
      ],
      "metadata": {
        "colab": {
          "base_uri": "https://localhost:8080/"
        },
        "id": "BKfgO-tN5GwC",
        "outputId": "093bffe7-c8e4-4c1c-bb99-205c4ae72eaa"
      },
      "execution_count": 9,
      "outputs": [
        {
          "output_type": "stream",
          "name": "stdout",
          "text": [
            "  docid                                              title  \\\n",
            "0     1  FYY Leather Case with Mirror for Samsung Galax...   \n",
            "1     2  Playtex Women's 18 Hour Easy On, Easy Off Fron...   \n",
            "2     4  YUEPIN U-Tube Clamp 304 Stainless Steel Hose P...   \n",
            "3     5            Bruce's Big Storm (Mother Bruce Series)   \n",
            "4     6  DJI Shoulder Neck Strap Belt Sling Lanyard Nec...   \n",
            "\n",
            "                                                text  \n",
            "0  Product Description Premium PU Leather Top qua...  \n",
            "1  Product Description Introducing Playtex 18 hou...  \n",
            "2  Product Description Specification: Material: 3...  \n",
            "3                                                     \n",
            "4  Product Description Specifications: Item Condi...  \n"
          ]
        }
      ]
    },
    {
      "cell_type": "code",
      "source": [
        "dataset_dict = df.to_dict(orient=\"list\")"
      ],
      "metadata": {
        "id": "p-Jqnmfg5as6"
      },
      "execution_count": 10,
      "outputs": []
    },
    {
      "cell_type": "code",
      "source": [
        "amostra = df.sample(100)"
      ],
      "metadata": {
        "id": "OwlR3h0b5rJh"
      },
      "execution_count": 11,
      "outputs": []
    },
    {
      "cell_type": "code",
      "source": [
        "from datasets import load_dataset\n",
        "import pandas as pd\n",
        "\n",
        "# Carregue o conjunto de dados\n",
        "dataset = load_dataset(\"spacemanidol/product-search-corpus\")\n",
        "\n",
        "# Crie um DataFrame com os dados de treinamento\n",
        "df = pd.DataFrame(dataset[\"train\"])\n",
        "\n",
        "# Amostrar 100 linhas aleatórias do DataFrame\n",
        "amostra = df.sample(100)\n",
        "\n",
        "# Exibir a amostra\n",
        "print(amostra)"
      ],
      "metadata": {
        "colab": {
          "base_uri": "https://localhost:8080/"
        },
        "id": "70S61GhI5wSJ",
        "outputId": "29ca795a-2512-49cc-8618-84e864373055"
      },
      "execution_count": 12,
      "outputs": [
        {
          "output_type": "stream",
          "name": "stdout",
          "text": [
            "           docid                                              title  \\\n",
            "567762    843197  Northern Brewer - Chinook IPA All Grain Beer R...   \n",
            "1039228  1543914  Kate Bissett Stylish Birthstone Stackables Swa...   \n",
            "58623      86874  EPEIUS Kids Girls' 5 Pack Seamless Rainbow Str...   \n",
            "15879      23643                                Hanes Women's O4637   \n",
            "920913   1367538  6V Battery Charger for Ride on Toys ,6V Charge...   \n",
            "...          ...                                                ...   \n",
            "868067   1289039  Adrianna Papell Women's Floral Embellished Jum...   \n",
            "1041482  1547235  D&L 5 Inch Plate Casters Wheels 1800lbs Heavy ...   \n",
            "42433      62918  New Pig Oil Absorbent Boom | 4 Gallon Absorben...   \n",
            "1045790  1553623                                                      \n",
            "417744    620324         Air Conflicts: Secret Wars - PlayStation 4   \n",
            "\n",
            "                                                      text  \n",
            "567762   Product Description This American IPA has a re...  \n",
            "1039228                               Product Description   \n",
            "58623                                                       \n",
            "15879    Product Description Comfort never had it so go...  \n",
            "920913                     Product Description Read more    \n",
            "...                                                    ...  \n",
            "868067                                                      \n",
            "1041482  Product Description Specification: Material: R...  \n",
            "42433    Product Description New Pig oil-only absorbent...  \n",
            "1045790                                                     \n",
            "417744   Product Description Air Conflicts: Secret Wars...  \n",
            "\n",
            "[100 rows x 3 columns]\n"
          ]
        }
      ]
    },
    {
      "cell_type": "code",
      "source": [
        "print(df.describe())"
      ],
      "metadata": {
        "id": "I6kGiHkH8Ch7",
        "colab": {
          "base_uri": "https://localhost:8080/"
        },
        "outputId": "cf624410-16f2-4c34-edc5-e1e29ca601c8"
      },
      "execution_count": 13,
      "outputs": [
        {
          "output_type": "stream",
          "name": "stdout",
          "text": [
            "          docid    title     text\n",
            "count   1118658  1118658  1118658\n",
            "unique  1118658   960458   690310\n",
            "top           1                  \n",
            "freq          1    38554   222918\n"
          ]
        }
      ]
    },
    {
      "cell_type": "code",
      "source": [
        "pip install matplotlib seaborn"
      ],
      "metadata": {
        "colab": {
          "base_uri": "https://localhost:8080/"
        },
        "id": "VA6gInpNkuzq",
        "outputId": "69f42397-91fc-49ac-f54e-695184c418fc"
      },
      "execution_count": 14,
      "outputs": [
        {
          "output_type": "stream",
          "name": "stdout",
          "text": [
            "Requirement already satisfied: matplotlib in /usr/local/lib/python3.10/dist-packages (3.7.1)\n",
            "Requirement already satisfied: seaborn in /usr/local/lib/python3.10/dist-packages (0.12.2)\n",
            "Requirement already satisfied: contourpy>=1.0.1 in /usr/local/lib/python3.10/dist-packages (from matplotlib) (1.1.0)\n",
            "Requirement already satisfied: cycler>=0.10 in /usr/local/lib/python3.10/dist-packages (from matplotlib) (0.11.0)\n",
            "Requirement already satisfied: fonttools>=4.22.0 in /usr/local/lib/python3.10/dist-packages (from matplotlib) (4.42.1)\n",
            "Requirement already satisfied: kiwisolver>=1.0.1 in /usr/local/lib/python3.10/dist-packages (from matplotlib) (1.4.5)\n",
            "Requirement already satisfied: numpy>=1.20 in /usr/local/lib/python3.10/dist-packages (from matplotlib) (1.23.5)\n",
            "Requirement already satisfied: packaging>=20.0 in /usr/local/lib/python3.10/dist-packages (from matplotlib) (23.1)\n",
            "Requirement already satisfied: pillow>=6.2.0 in /usr/local/lib/python3.10/dist-packages (from matplotlib) (9.4.0)\n",
            "Requirement already satisfied: pyparsing>=2.3.1 in /usr/local/lib/python3.10/dist-packages (from matplotlib) (3.1.1)\n",
            "Requirement already satisfied: python-dateutil>=2.7 in /usr/local/lib/python3.10/dist-packages (from matplotlib) (2.8.2)\n",
            "Requirement already satisfied: pandas>=0.25 in /usr/local/lib/python3.10/dist-packages (from seaborn) (1.5.3)\n",
            "Requirement already satisfied: pytz>=2020.1 in /usr/local/lib/python3.10/dist-packages (from pandas>=0.25->seaborn) (2023.3.post1)\n",
            "Requirement already satisfied: six>=1.5 in /usr/local/lib/python3.10/dist-packages (from python-dateutil>=2.7->matplotlib) (1.16.0)\n"
          ]
        }
      ]
    },
    {
      "cell_type": "code",
      "source": [
        "import matplotlib.pyplot as plt"
      ],
      "metadata": {
        "id": "sO0iZH5co2B-"
      },
      "execution_count": 15,
      "outputs": []
    },
    {
      "cell_type": "code",
      "source": [
        "import seaborn as sns"
      ],
      "metadata": {
        "id": "hlS0fmDko-rZ"
      },
      "execution_count": 16,
      "outputs": []
    },
    {
      "cell_type": "code",
      "source": [
        "import pandas as pd"
      ],
      "metadata": {
        "id": "bRHIzkiYpD7B"
      },
      "execution_count": 17,
      "outputs": []
    },
    {
      "cell_type": "code",
      "source": [
        "print(df.head())"
      ],
      "metadata": {
        "colab": {
          "base_uri": "https://localhost:8080/"
        },
        "id": "daUOvsAJpHkR",
        "outputId": "c80fd4a4-a962-45d0-f070-0abfdf924127"
      },
      "execution_count": 18,
      "outputs": [
        {
          "output_type": "stream",
          "name": "stdout",
          "text": [
            "  docid                                              title  \\\n",
            "0     1  FYY Leather Case with Mirror for Samsung Galax...   \n",
            "1     2  Playtex Women's 18 Hour Easy On, Easy Off Fron...   \n",
            "2     4  YUEPIN U-Tube Clamp 304 Stainless Steel Hose P...   \n",
            "3     5            Bruce's Big Storm (Mother Bruce Series)   \n",
            "4     6  DJI Shoulder Neck Strap Belt Sling Lanyard Nec...   \n",
            "\n",
            "                                                text  \n",
            "0  Product Description Premium PU Leather Top qua...  \n",
            "1  Product Description Introducing Playtex 18 hou...  \n",
            "2  Product Description Specification: Material: 3...  \n",
            "3                                                     \n",
            "4  Product Description Specifications: Item Condi...  \n"
          ]
        }
      ]
    },
    {
      "cell_type": "code",
      "source": [
        "title_counts = df['title'].value_counts()\n",
        "print(title_counts)"
      ],
      "metadata": {
        "colab": {
          "base_uri": "https://localhost:8080/"
        },
        "id": "vONGmylhpNpZ",
        "outputId": "7e2c77f5-46dc-4dbb-ec13-103c3fcfe389"
      },
      "execution_count": 21,
      "outputs": [
        {
          "output_type": "stream",
          "name": "stdout",
          "text": [
            "                                                                                                                                                                   38554\n",
            "Hanes Men's Sweatshirt, EcoSmart Fleece Hoodie, Cotton-Blend Fleece Hooded Sweatshirt, Plush Fleece Pullover Hoodie                                                   85\n",
            "Gloria Vanderbilt Women's Amanda Classic High Rise Tapered Jean                                                                                                       82\n",
            "Crocs Unisex-Child Classic Clogs                                                                                                                                      79\n",
            "Nike Men's Footbal Shoes                                                                                                                                              73\n",
            "                                                                                                                                                                   ...  \n",
            "Under Armour Kids Boy's Threadborne/TBD Polo (Big Kids) Teal Vibe Light Heather/Teal Vibe Light Heather/Pitch Gray SM (8 Big Kids)                                     1\n",
            "Pioneer BDR-XD05B 6x Slim Portable USB 3.0 Blu-Ray Burner (Black) - Supports BDXL/BD/DVD/CD - Bonus CyberLink Media Suite 10 Windows Software                          1\n",
            "Scentsicles Scented Christmas Ornaments for Christmas Tree, All Natural Holiday Air Freshener (O Christmas Tree Holiday Fragrance) Includes 6 Ornaments & Hooks        1\n",
            "Funny Guy Mugs Unicorn Collapsible Neoprene Can Coolie - Drink Cooler                                                                                                  1\n",
            "Degree Men Antiperspirant Deodorant Adventure Antiperspirant For Men With MotionSense Technology, 2.7 Ounce (Pack of 4)                                                1\n",
            "Name: title, Length: 960458, dtype: int64\n"
          ]
        }
      ]
    },
    {
      "cell_type": "code",
      "source": [
        "text_counts = df['text'].value_counts()\n",
        "print(text_counts)\n"
      ],
      "metadata": {
        "colab": {
          "base_uri": "https://localhost:8080/"
        },
        "id": "50Pnbsv4p_-q",
        "outputId": "ce5af653-d6ee-40f4-d1e7-c7811b805a42"
      },
      "execution_count": 23,
      "outputs": [
        {
          "output_type": "stream",
          "name": "stdout",
          "text": [
            "                                                                                                                                                                                                                                                                                                                                                                                                                                                                                                                                                                                                                                                                                                                                                                                                                                                                                                                                                                                                                                                                                                                                                                                                                                                                                                                                                                                                                                                                                                                                                                                                                                                                                                                                                                                                                                                                                                                                                                                                                                                                                                                                                                                                                                                                                                                                                                                                                                                                                                                                                                                                                                                                                                                                                                                                                                                                                                                                                                                                                                                                                                                                                                                                                                                                                                                                                                                                                                                                                                                                                                                                                                                                                                                                                                                                                                                                                                                                                                                                                                                                                                                                                                                                                                                                                                                                                                                                                                                                                                                                                                                                                                                                                                                           222918\n",
            "From the manufacturer                                                                                                                                                                                                                                                                                                                                                                                                                                                                                                                                                                                                                                                                                                                                                                                                                                                                                                                                                                                                                                                                                                                                                                                                                                                                                                                                                                                                                                                                                                                                                                                                                                                                                                                                                                                                                                                                                                                                                                                                                                                                                                                                                                                                                                                                                                                                                                                                                                                                                                                                                                                                                                                                                                                                                                                                                                                                                                                                                                                                                                                                                                                                                                                                                                                                                                                                                                                                                                                                                                                                                                                                                                                                                                                                                                                                                                                                                                                                                                                                                                                                                                                                                                                                                                                                                                                                                                                                                                                                                                                                                                                                                                                                                                        9510\n",
            "Product Description                                                                                                                                                                                                                                                                                                                                                                                                                                                                                                                                                                                                                                                                                                                                                                                                                                                                                                                                                                                                                                                                                                                                                                                                                                                                                                                                                                                                                                                                                                                                                                                                                                                                                                                                                                                                                                                                                                                                                                                                                                                                                                                                                                                                                                                                                                                                                                                                                                                                                                                                                                                                                                                                                                                                                                                                                                                                                                                                                                                                                                                                                                                                                                                                                                                                                                                                                                                                                                                                                                                                                                                                                                                                                                                                                                                                                                                                                                                                                                                                                                                                                                                                                                                                                                                                                                                                                                                                                                                                                                                                                                                                                                                                                                          6607\n",
            "Product Description Read more                                                                                                                                                                                                                                                                                                                                                                                                                                                                                                                                                                                                                                                                                                                                                                                                                                                                                                                                                                                                                                                                                                                                                                                                                                                                                                                                                                                                                                                                                                                                                                                                                                                                                                                                                                                                                                                                                                                                                                                                                                                                                                                                                                                                                                                                                                                                                                                                                                                                                                                                                                                                                                                                                                                                                                                                                                                                                                                                                                                                                                                                                                                                                                                                                                                                                                                                                                                                                                                                                                                                                                                                                                                                                                                                                                                                                                                                                                                                                                                                                                                                                                                                                                                                                                                                                                                                                                                                                                                                                                                                                                                                                                                                                                3081\n",
            "Product Description Read more Read more                                                                                                                                                                                                                                                                                                                                                                                                                                                                                                                                                                                                                                                                                                                                                                                                                                                                                                                                                                                                                                                                                                                                                                                                                                                                                                                                                                                                                                                                                                                                                                                                                                                                                                                                                                                                                                                                                                                                                                                                                                                                                                                                                                                                                                                                                                                                                                                                                                                                                                                                                                                                                                                                                                                                                                                                                                                                                                                                                                                                                                                                                                                                                                                                                                                                                                                                                                                                                                                                                                                                                                                                                                                                                                                                                                                                                                                                                                                                                                                                                                                                                                                                                                                                                                                                                                                                                                                                                                                                                                                                                                                                                                                                                      2366\n",
            "                                                                                                                                                                                                                                                                                                                                                                                                                                                                                                                                                                                                                                                                                                                                                                                                                                                                                                                                                                                                                                                                                                                                                                                                                                                                                                                                                                                                                                                                                                                                                                                                                                                                                                                                                                                                                                                                                                                                                                                                                                                                                                                                                                                                                                                                                                                                                                                                                                                                                                                                                                                                                                                                                                                                                                                                                                                                                                                                                                                                                                                                                                                                                                                                                                                                                                                                                                                                                                                                                                                                                                                                                                                                                                                                                                                                                                                                                                                                                                                                                                                                                                                                                                                                                                                                                                                                                                                                                                                                                                                                                                                                                                                                                                                            ...  \n",
            "From the brand Previous page Baby Food Feeder One-handed feeding spoon Perfect for on the go Baby led weaning spoon Termichy Baby Food Feeder Visit the Store Baby Formula Dispenser Parents helper Travel essential Registry gift Termichy Formula Dispenser Visit the Store Baby Food Container Perfect for daycare Unbreakable · no glass Microwave & Freezer Safe Next page Product Description Read more As a mother, are you still worried about these problems? Lots of baby bottles and accessories, it's hard to dry. The bottle is placed at random and is easily soiled. No good place to dry after washing. If yes, this travel bottle drying rack is your best choice. Ideal for use with bottles,cleaning soap, teats, cups, valves, pump parts when travel with your baby Read more Easy to install Open the box, the bracket and brush will be displayed in the box. Place the brackets according to your needs. Assemble the teat brush and bottle brush together and place on the brush holder. Put the cleaned bottle and feeding accessories on the rack to dry. Please clean the product before use. Read more Anti-scraping Unique ball design at the top of the branch, prevent scratching bottles and accessories. Brush Kit With two sizes of brushes, including a teat brush and bottle brush, you can take care of all your needs. The brush has been improved many times, so it is not easy to splash water while washing. Safe & Compact The round edge design makes sure it would not hurt anyone. Compact box design makes it not only suitable for home use but also more convenient to carry when traveling. Read more Formula Dispenser Baby security blanket Fomular Dispenser Baby Feeder Feeder Cotton Storage Basket Baby Blanket Function Baby Formula Dispenser Baby security blanket Baby Fomular Container Baby Food Feeder Cotton Storage Basket Cotton Baby Blanket Highlight Easy to use and carry Cotton BPA-free,Easy to Carry Filterable Food,Easy to use Storage Cotton Feature 2.1oz/ 60g per cup Soft & Comfortable Buckle design and silicone sealing ring inner lid,with spoon Strong Sealing,Suction Cup 17.7\" x 15.7\" Soft & Comfortable Suitable Age Kids & Adults 3 months+ Kids & Adults Kids & Adults Kids & Adults 3 months+                                                                                                                                                                                                                                                                                                                                                                                                                                                                                                                                                                                                                                                                                                                                                                                                                                                                                                                                                                                                                                                                                                                                                                                                                                                                                                                                                                                                                                                                                                                                                                                                                                                                                                                                                                                                                                                                                                                                                                                                                                                                                                                                                                                                                                                                                                                                                                                                                                        1\n",
            "Product Description AMAZINGLY FAST - SHIPS SAME DAY! Mon-Fri - This well made, sturdy Official NCAA Texas Tech Red Raiders backpack features multiple roomy, secure zippered compartments, a padded, channeled back for ventilation, and well padded and vented adjustable shoulder straps. This high quality Texas Tech backpack has an exterior, easy-access padded laptop or tablet compartment. The Broad Bay Texas Tech computer backpack is made with durable 600 Denier fabric and a reinforced base. This Texas Tech Red Raiders Computer Backpack is a TOP Texas Tech Red Raiders gift idea for him or her! This unique Texas Tech Backpack is perfect for school, college or travel. Dimensions: 17.75\"h x 12.5\"w x 7\"d ** OFFICIAL Texas Tech Backpacks & Texas Tech Computer Bags - Up to 12% Returned to Support Texas Tech Red Raiders Programs!** Product Description AMAZINGLY FAST - SHIPS SAME DAY! Mon-Fri - This well made, sturdy Official NCAA Texas Tech Red Raiders backpack features multiple roomy, secure zippered compartments, a padded, channeled back for ventilation, and well padded and vented adjustable shoulder straps. This high quality Texas Tech backpack has an exterior, easy-access padded laptop or tablet compartment. The Broad Bay Texas Tech computer backpack is made with durable 600 Denier fabric and a reinforced base. This Texas Tech Red Raiders Computer Backpack is a TOP Texas Tech Red Raiders gift idea for him or her! This unique Texas Tech Backpack is perfect for school, college or travel. Dimensions: 17.75\"h x 12.5\"w x 7\"d ** OFFICIAL Texas Tech Backpacks & Texas Tech Computer Bags - Up to 12% Returned to Support Texas Tech Red Raiders Programs!**                                                                                                                                                                                                                                                                                                                                                                                                                                                                                                                                                                                                                                                                                                                                                                                                                                                                                                                                                                                                                                                                                                                                                                                                                                                                                                                                                                                                                                                                                                                                                                                                                                                                                                                                                                                                                                                                                                                                                                                                                                                                                                                                                                                                                                                                                                                                                                                                                                                                                                                                                                                                                                                                                                                                                                                                                                                                                                                                                                                               1\n",
            "From the brand Welcome to Lars Amadeus Lars Amadeus is committed to designing clothing that conforms to your body, allowing you to move through life freely. Previous page ABOUT US | Lars Amadeus Lars Amadeus as a new arising Men's Clothing brand which is committed to provide our customers the most innovative and high-quality products. The clothing types that we involved include Dress Pants, Blazers, Jackets, Shirts, T- Shirts, Pullovers, Hoodie &Sweatshirt, Pajamas and so on in the Brand Store. We listen to customer feedback and fine-tune every detail to ensure quality, fit, and comfort. Thanks for your coming. Men's Christmas Clothing Visit the Store Men's Christmas Clothing Visit the Store Men's Christmas Clothing Visit the Store Men's Christmas Clothing Visit the Store Men's Christmas Clothing Visit the Store Men's Christmas Clothing Visit the Store Men's Christmas Clothing Visit the Store Men's Christmas Clothing Visit the Store Men's Christmas Clothing Visit the Store Men's Christmas Clothing Visit the Store Men's Christmas Clothing Visit the Store Men's Christmas Clothing Visit the Store Men's Christmas Clothing Visit the Store Men's Christmas Clothing Visit the Store Men's Christmas Clothing Visit the Store Men's Christmas Clothing Visit the Store Men's Christmas Clothing Visit the Store Men's Christmas Clothing Visit the Store Next page Product Description Create a simply chic look with this punk pants. This pair has five pockets, zipper at front, and adjustable buckled belt embellishment. Team it with your favorite for a casual day. Men's Pockets Patch Buckle Zipper Gothic Punk Rock Pants Zip fly, button closure, belt loop, and slant pockets. Gothic, punk style, perfect for party, club, music festival. A necessity in your wardrobe and easily build a cool look. Men's Pockets Patch Buckle Zipper Gothic Punk Rock Pants Zip fly, button closure, belt loop, and slant pockets. Gothic, punk style, perfect for party, club, music festival. A necessity in your wardrobe and easily build a cool look. Men's Pockets Patch Buckle Zipper Gothic Punk Rock Pants Zip fly, button closure, belt loop, and slant pockets. Gothic, punk style, perfect for party, club, music festival. A necessity in your wardrobe and easily build a cool look. Matched with shirt Paired with shirt Matched with blazer Men Casual Slim Fit Pockets Patch Buckle Zipper Gothic Punk Rock Pants • Design Details zipper decoration button closure belt loop Read more Velvet T-Shirt Velvet T-Shirt Velvet T-Shirt Tie Dye T-Shirt Tie Dye T-Shirt Tie Dye T-Shirt Punk Gothic Pants Punk Gothic Pants Punk Gothic Pants Punk Gothic Pants Punk Gothic Pants Punk Gothic Pants Measurement Waist Hip Girth Inseam 28 31 1/8 38 2/8 29 2/8 30 33 1/8 40 1/8 29 4/8 32 35 42 1/8 29 6/8 34 37 44 1/8 30 36 39 44 1/8 30 2/8                                                                                                                                                                                                                                                                                                                                                                                                                                                                                                                                                                                                                                                                                                                                                                                                                                                                                                                                                                                                                                                                                                                                                                                                                                                                                                                                                                                                                                                                                                                                                                                                                                                                                                                                                                                                               1\n",
            "From the brand Chris Christensen Systems We began in 1996 with the first true color-correcting shampoo, and have since evolved into one of the premier grooming brands. Previous page Shampoos & Conditioners Our shampoos and conditioners allow groomers to achieve consistently perfect results. Options available for all breeds and coat types. Grooming Tools Chris Christensen ensures the highest quality materials are used for our grooming tools to perform whatever tasks you need. Styling Aides Our styling aides allow groomers to take the extra step towards consistently achieving the ideal results they're looking for. About Us Our journey began in 1996 with White on White, the first true color-correcting shampoo for cats and dogs. Professional groomers across the world trust us to provide high-quality shampoos, styling aids, and grooming tools to achieve coat perfection consistently. Our products are tested on humans before they ever reach an animal, ensuring the best safety standards for your furry companions! Next page Product Description 27mm Original Oval Pin Brush When Perfection is the Only Option It all started in 1996 with White on White, when, with chemistry and perseverance, Chris Christensen developed the first true color correcting shampoo for canines and felines. White on White was a catalyst in the evolution of canine coat care. At Chris Christensen Systems, product creation is a group effort. Every single product idea we are given or discover, has to pass a three question test: Does this product serve a purpose for our customers? Is there a product like this on the market? If so, can we make it better? 27mm Original Oval Pin Brush The Chris Christensen Original Series Pin Brushes feature quality and durability, all in an affordable, premium pin brush! A brush like no other, the Chris Christensen pin brushes feature ground and polished tips on the pins for comfort. They glide through the coat easily. Ground and polished tips are the smoothest available High quality stainless steel pins Light-weight solid beech wood body with an easy grip handle, Durable firm cushion Made in Germany Read more Coarse Coat Drop Coat Smooth Coat Wire Coat Read more 20mm Original Oval Pin Brush 27mm Original Oval Pin Brush 35mm Original Oval Pin Brush Size 20 mm x 8 1/2\" body length 27 mm x 8 1/2\" body length 35 mm x 8 1/2\" body length High Quality Stainless Steel Pins ✓ ✓ ✓ Durable, Firm Cushion ✓ ✓ ✓ Easy Grip Handle ✓ ✓ ✓ Short Coats ✓ Medium to Long Coats ✓ Long Thick Full Coats ✓ White on White Shampoo 1 Gallon Ice on Ice Conditioner with Sunscreen 16oz Ice on Ice Detangling Shampoo 16oz Oval Pin Brush 27mm NTS Staggered 1 1/4 Tooth Buttercomb Features Optic intensifying treatment within a shampoo, removing all yellow stains with a lustrous sheen on darker colors Treats, fortifies and protects the coat, creating a protective barrier that locks in moisture. Helps to transform dry, damaged coats into silky smooth strands. Reinforces weakened strands, helping to eliminate painful tangles . Polished bristles allows for gentle brushing and avoids injury. Flat spine and rounded tip which allows it to glide through the coat avoiding breakage of the coat. Breeds All All All All Yorkies, Maltese's, Shih-tzus, Goldendoodle Artemis Cordless Clipper Artemis Clipper Rechargeable Battery Artemis Clipper 10 Blade Artemis Clipper 30 Blade Artemis Clipper 40 Blade Use: Artemis Clipper is built to sustain the toughest environments while also providing the finesse needed for the most delicate grooms Provides continuous power to Artemis clipper to complete any task Sanitary trims, cockers, sporting breeds, terriers; great for trimming cats (blade included) Pet poodle feet, clipping between pads of feet, good for use with Snap on combs Surgical prep, show poodle feet, face and pattern Features: Lightweight at 0.84 lbs., Brushless 3500RPM motor, Compatible with universal interchangeable blades, Runs quiet at 63 db Rechargeable lithium ion, 4 hours continuous battery life German high carbon steel, Superior edge retention sharpen up to 8x, Compatible with all standard detachable blade clippers German high carbon steel, Superior edge retention sharpen up to 8x, Compatible with all standard detachable blade clippers German high carbon steel, Superior edge retention sharpen up to 8x, Compatible with all standard detachable blade clippers Coat Length: Cuts and leaves 1/16” or 2mm length of coat Cuts and leaves 1/50” or 0.5mm length of coat Cuts and leaves 1/100” or 0.25mm length of coat          1\n",
            "Product Description Degree is upgrading to our best formula yet. Our new and improved formulation gives you 72 hours of nonstop sweat and odor protection. You will still find all the same fragrances you know and love, but now with our new and improved long lasting protection! For a limited time, you may still receive our old 48-hour formulation while all our new 72-hour products make their way to a store near you. Freshen up, power up and move with confidence with Degree Men Adventure Antiperspirant Deodorant. Supercharged with 72-hour odor protection, this antiperspirant deodorant for men works as hard as you do and provides superior motion-activated protection from sweat and odor. However you move, this antiperspirant deodorant delivers unstoppable freshness for that shower-clean feeling all day long. With a rugged fragrance that blends clean citrus, energizing fresh pepper and long-lasting notes of woods and musk and non-stop odor and sweat protection, this Degree Men antiperspirant deodorant for men won’t let you down – so you can stay fresh, for all the ways you move. Product Description Degree is upgrading to our best formula yet. Our new and improved formulation gives you 72 hours of nonstop sweat and odor protection. You will still find all the same fragrances you know and love, but now with our new and improved long lasting protection! For a limited time, you may still receive our old 48-hour formulation while all our new 72-hour products make their way to a store near you. Freshen up, power up and move with confidence with Degree Men Adventure Antiperspirant Deodorant. Supercharged with 72-hour odor protection, this antiperspirant deodorant for men works as hard as you do and provides superior motion-activated protection from sweat and odor. However you move, this antiperspirant deodorant delivers unstoppable freshness for that shower-clean feeling all day long. With a rugged fragrance that blends clean citrus, energizing fresh pepper and long-lasting notes of woods and musk and non-stop odor and sweat protection, this Degree Men antiperspirant deodorant for men won’t let you down – so you can stay fresh, for all the ways you move.From the manufacturer Degree Men Adventure Antiperspirant Deodorant has a rugged fragrance that blends clean citrus, energizing fresh pepper and long-lasting notes of wood and musk. Its powerful MotionSense technology releases more fragrance as you move, so that you're ready for the most challenging adventure. 72-HOUR NONSTOP SWEAT PROTECTION This antiperspirant stick delivers unstoppable sweat and odor protection that helps keep you moving with confidence. MOTIONSENSE TECHNOLOGY Degree's breakthrough MotionSense technology reacts directly to movement to keep you feeling fresh and protected. UNSTOPPABLE CONFIDENCE Degree doesn't stop working, no matter how much you move. MOVING TOGETHER TOWARD REUSE At Degree, we're committed to creating the most reused and inclusive products possible. As well as increasing our use of reusable materials, we’re making it easier for you to recycle our antiperspirant and dry spray packaging. Read more Degree Men UltraClear DeodorantStick 72 hour Sweat and odor Black+White, 2.7 oz Degree Men Advanced Cool Rush Antiperspirant Deodorant Dry Spray, 3.8 oz Degree Men Extreme Blast Antiperspirant Deodorant Stick, 2.7 oz Main Benefit This antiperspirant for men protects against white marks and yellow stains. Active lives need Degree Men UltraClear Black + White Antiperspirant Deodorant, formulated to help you move with freedom, and feel fresh and confident. Get the crisp, arctic freshness of our fan-favorite Cool Rush deodorant in a convenient dry spray featuring MotionSense technology that works with your body. Degree Men Extreme Blast Antiperspirant Deodorant provides 48-hour sweat and odor protection that won't let you down.                                                                                                                                                                                                                                                                                                                                                                                                                                                                                                                                                                                                                                                                                                              1\n",
            "Name: text, Length: 690310, dtype: int64\n"
          ]
        }
      ]
    },
    {
      "cell_type": "code",
      "source": [],
      "metadata": {
        "id": "8D7DH7GErn9C"
      },
      "execution_count": null,
      "outputs": []
    }
  ]
}